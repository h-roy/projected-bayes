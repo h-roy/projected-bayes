{
 "cells": [
  {
   "cell_type": "code",
   "execution_count": 1,
   "metadata": {},
   "outputs": [],
   "source": [
    "import pickle\n",
    "import os\n",
    "import argparse\n",
    "import torch\n",
    "from jax import random\n",
    "import json\n",
    "import datetime\n",
    "from src.losses import sse_loss, cross_entropy_loss\n",
    "from src.helper import calculate_exact_ggn, tree_random_normal_like\n",
    "from src.sampling.predictive_samplers import sample_predictive, sample_hessian_predictive\n",
    "from jax import numpy as jnp\n",
    "import jax\n",
    "from jax import flatten_util\n",
    "import matplotlib.pyplot as plt\n",
    "import tree_math as tm\n",
    "from src.laplace.last_layer.extract_last_layer import last_layer_ggn"
   ]
  },
  {
   "cell_type": "code",
   "execution_count": 2,
   "metadata": {},
   "outputs": [],
   "source": [
    "def f(x):\n",
    "    return jnp.sin(5 * x + 1) #+ jnp.cos(25 * x + 1) + jnp.exp(0.1 * x) + 5\n",
    "param_dict = pickle.load(open(\"../checkpoints/syntetic_regression.pickle\", \"rb\"))\n",
    "params = param_dict['params']\n",
    "alpha = param_dict['alpha']\n",
    "rho = param_dict['rho']\n",
    "x_train, y_train, x_val, y_val, model, D = param_dict[\"train_stats\"]['x_train'],param_dict[\"train_stats\"]['y_train'],param_dict[\"train_stats\"]['x_val'],param_dict[\"train_stats\"]['y_val'],param_dict[\"train_stats\"]['model'], param_dict[\"train_stats\"]['n_params']"
   ]
  },
  {
   "cell_type": "code",
   "execution_count": 3,
   "metadata": {},
   "outputs": [],
   "source": [
    "sample_key = jax.random.PRNGKey(100)\n",
    "model_fn = lambda params, x: model.apply(params, x[None, ...])[0]\n",
    "n_params = D \n",
    "def sse_loss(preds, y):\n",
    "    residual = preds - y\n",
    "    return 0.5 * jnp.sum(residual**2)\n",
    "\n",
    "ggn = calculate_exact_ggn(sse_loss, model_fn, params, x_train, y_train, n_params)\n"
   ]
  },
  {
   "cell_type": "code",
   "execution_count": 4,
   "metadata": {},
   "outputs": [],
   "source": [
    "leafs, _ = jax.tree_util.tree_flatten(params)\n",
    "N_llla = len(leafs[-1]) + len(leafs[-2])\n",
    "ggn_ll = ggn[-N_llla:, -N_llla:]"
   ]
  },
  {
   "cell_type": "code",
   "execution_count": 5,
   "metadata": {},
   "outputs": [
    {
     "data": {
      "text/plain": [
       "Array(True, dtype=bool)"
      ]
     },
     "execution_count": 5,
     "metadata": {},
     "output_type": "execute_result"
    }
   ],
   "source": [
    "ggn_ll_2 = last_layer_ggn(model.apply, params, x_train, \"regression\")\n",
    "jnp.allclose(ggn_ll_2, ggn_ll)"
   ]
  },
  {
   "cell_type": "markdown",
   "metadata": {},
   "source": [
    "### Classification"
   ]
  },
  {
   "cell_type": "code",
   "execution_count": 6,
   "metadata": {},
   "outputs": [
    {
     "name": "stderr",
     "output_type": "stream",
     "text": [
      "/dtu/p1/hroy/projected-bayes/src/data/mnist.py:31: UserWarning: To copy construct from a tensor, it is recommended to use sourceTensor.clone().detach() or sourceTensor.clone().detach().requires_grad_(True), rather than torch.tensor(sourceTensor).\n",
      "  self.targets = torch.nn.functional.one_hot(torch.tensor(self.targets), len(classes)).numpy()\n",
      "/usr/lib64/python3.9/multiprocessing/popen_fork.py:66: RuntimeWarning: os.fork() was called. os.fork() is incompatible with multithreaded code, and JAX is multithreaded, so this will likely lead to a deadlock.\n",
      "  self.pid = os.fork()\n",
      "/usr/lib64/python3.9/multiprocessing/popen_fork.py:66: RuntimeWarning: os.fork() was called. os.fork() is incompatible with multithreaded code, and JAX is multithreaded, so this will likely lead to a deadlock.\n",
      "  self.pid = os.fork()\n"
     ]
    },
    {
     "name": "stdout",
     "output_type": "stream",
     "text": [
      "Epoch 0, loss 226.290, accuracy 0.160\n"
     ]
    },
    {
     "name": "stderr",
     "output_type": "stream",
     "text": [
      "/usr/lib64/python3.9/multiprocessing/popen_fork.py:66: RuntimeWarning: os.fork() was called. os.fork() is incompatible with multithreaded code, and JAX is multithreaded, so this will likely lead to a deadlock.\n",
      "  self.pid = os.fork()\n",
      "/usr/lib64/python3.9/multiprocessing/popen_fork.py:66: RuntimeWarning: os.fork() was called. os.fork() is incompatible with multithreaded code, and JAX is multithreaded, so this will likely lead to a deadlock.\n",
      "  self.pid = os.fork()\n"
     ]
    },
    {
     "name": "stdout",
     "output_type": "stream",
     "text": [
      "Epoch 1, loss 214.249, accuracy 0.320\n"
     ]
    },
    {
     "name": "stderr",
     "output_type": "stream",
     "text": [
      "/usr/lib64/python3.9/multiprocessing/popen_fork.py:66: RuntimeWarning: os.fork() was called. os.fork() is incompatible with multithreaded code, and JAX is multithreaded, so this will likely lead to a deadlock.\n",
      "  self.pid = os.fork()\n",
      "/usr/lib64/python3.9/multiprocessing/popen_fork.py:66: RuntimeWarning: os.fork() was called. os.fork() is incompatible with multithreaded code, and JAX is multithreaded, so this will likely lead to a deadlock.\n",
      "  self.pid = os.fork()\n"
     ]
    },
    {
     "name": "stdout",
     "output_type": "stream",
     "text": [
      "Epoch 2, loss 196.323, accuracy 0.420\n"
     ]
    },
    {
     "name": "stderr",
     "output_type": "stream",
     "text": [
      "/usr/lib64/python3.9/multiprocessing/popen_fork.py:66: RuntimeWarning: os.fork() was called. os.fork() is incompatible with multithreaded code, and JAX is multithreaded, so this will likely lead to a deadlock.\n",
      "  self.pid = os.fork()\n",
      "/usr/lib64/python3.9/multiprocessing/popen_fork.py:66: RuntimeWarning: os.fork() was called. os.fork() is incompatible with multithreaded code, and JAX is multithreaded, so this will likely lead to a deadlock.\n",
      "  self.pid = os.fork()\n"
     ]
    },
    {
     "name": "stdout",
     "output_type": "stream",
     "text": [
      "Epoch 3, loss 172.447, accuracy 0.440\n"
     ]
    },
    {
     "name": "stderr",
     "output_type": "stream",
     "text": [
      "/usr/lib64/python3.9/multiprocessing/popen_fork.py:66: RuntimeWarning: os.fork() was called. os.fork() is incompatible with multithreaded code, and JAX is multithreaded, so this will likely lead to a deadlock.\n",
      "  self.pid = os.fork()\n",
      "/usr/lib64/python3.9/multiprocessing/popen_fork.py:66: RuntimeWarning: os.fork() was called. os.fork() is incompatible with multithreaded code, and JAX is multithreaded, so this will likely lead to a deadlock.\n",
      "  self.pid = os.fork()\n"
     ]
    },
    {
     "name": "stdout",
     "output_type": "stream",
     "text": [
      "Epoch 4, loss 145.665, accuracy 0.530\n"
     ]
    },
    {
     "name": "stderr",
     "output_type": "stream",
     "text": [
      "/usr/lib64/python3.9/multiprocessing/popen_fork.py:66: RuntimeWarning: os.fork() was called. os.fork() is incompatible with multithreaded code, and JAX is multithreaded, so this will likely lead to a deadlock.\n",
      "  self.pid = os.fork()\n",
      "/usr/lib64/python3.9/multiprocessing/popen_fork.py:66: RuntimeWarning: os.fork() was called. os.fork() is incompatible with multithreaded code, and JAX is multithreaded, so this will likely lead to a deadlock.\n",
      "  self.pid = os.fork()\n"
     ]
    },
    {
     "name": "stdout",
     "output_type": "stream",
     "text": [
      "Epoch 5, loss 121.063, accuracy 0.610\n"
     ]
    },
    {
     "name": "stderr",
     "output_type": "stream",
     "text": [
      "/usr/lib64/python3.9/multiprocessing/popen_fork.py:66: RuntimeWarning: os.fork() was called. os.fork() is incompatible with multithreaded code, and JAX is multithreaded, so this will likely lead to a deadlock.\n",
      "  self.pid = os.fork()\n",
      "/usr/lib64/python3.9/multiprocessing/popen_fork.py:66: RuntimeWarning: os.fork() was called. os.fork() is incompatible with multithreaded code, and JAX is multithreaded, so this will likely lead to a deadlock.\n",
      "  self.pid = os.fork()\n"
     ]
    },
    {
     "name": "stdout",
     "output_type": "stream",
     "text": [
      "Epoch 6, loss 104.405, accuracy 0.610\n"
     ]
    },
    {
     "name": "stderr",
     "output_type": "stream",
     "text": [
      "/usr/lib64/python3.9/multiprocessing/popen_fork.py:66: RuntimeWarning: os.fork() was called. os.fork() is incompatible with multithreaded code, and JAX is multithreaded, so this will likely lead to a deadlock.\n",
      "  self.pid = os.fork()\n",
      "/usr/lib64/python3.9/multiprocessing/popen_fork.py:66: RuntimeWarning: os.fork() was called. os.fork() is incompatible with multithreaded code, and JAX is multithreaded, so this will likely lead to a deadlock.\n",
      "  self.pid = os.fork()\n"
     ]
    },
    {
     "name": "stdout",
     "output_type": "stream",
     "text": [
      "Epoch 7, loss 93.491, accuracy 0.650\n"
     ]
    },
    {
     "name": "stderr",
     "output_type": "stream",
     "text": [
      "/usr/lib64/python3.9/multiprocessing/popen_fork.py:66: RuntimeWarning: os.fork() was called. os.fork() is incompatible with multithreaded code, and JAX is multithreaded, so this will likely lead to a deadlock.\n",
      "  self.pid = os.fork()\n",
      "/usr/lib64/python3.9/multiprocessing/popen_fork.py:66: RuntimeWarning: os.fork() was called. os.fork() is incompatible with multithreaded code, and JAX is multithreaded, so this will likely lead to a deadlock.\n",
      "  self.pid = os.fork()\n"
     ]
    },
    {
     "name": "stdout",
     "output_type": "stream",
     "text": [
      "Epoch 8, loss 85.288, accuracy 0.690\n"
     ]
    },
    {
     "name": "stderr",
     "output_type": "stream",
     "text": [
      "/usr/lib64/python3.9/multiprocessing/popen_fork.py:66: RuntimeWarning: os.fork() was called. os.fork() is incompatible with multithreaded code, and JAX is multithreaded, so this will likely lead to a deadlock.\n",
      "  self.pid = os.fork()\n",
      "/usr/lib64/python3.9/multiprocessing/popen_fork.py:66: RuntimeWarning: os.fork() was called. os.fork() is incompatible with multithreaded code, and JAX is multithreaded, so this will likely lead to a deadlock.\n",
      "  self.pid = os.fork()\n"
     ]
    },
    {
     "name": "stdout",
     "output_type": "stream",
     "text": [
      "Epoch 9, loss 78.926, accuracy 0.700\n"
     ]
    }
   ],
   "source": [
    "import optax\n",
    "from src.models import ConvNet\n",
    "from src.data import get_mnist\n",
    "from src.losses import cross_entropy_loss\n",
    "\n",
    "def accuracy(v, x, y):\n",
    "    logits = model_fn(v, x)\n",
    "    return jnp.mean(jnp.argmax(logits, axis=-1) == jnp.argmax(y, axis=-1))\n",
    "\n",
    "model = ConvNet(10)\n",
    "batch_size = 100\n",
    "train_loader, val_loader, _ = get_mnist(batch_size, n_samples_per_class=100)\n",
    "val_img, val_label = next(iter(val_loader))['image'], next(iter(val_loader))['label']\n",
    "params = model.init(random.PRNGKey(0), next(iter(train_loader))['image'])\n",
    "variables, unflatten = jax.flatten_util.ravel_pytree(params)\n",
    "# model_fn = lambda vec, x: model.apply(unflatten(vec), x)\n",
    "model_fn = model.apply\n",
    "def loss_fn(v, x, y):\n",
    "    logits = model_fn(v, x)\n",
    "    return cross_entropy_loss(logits, y)\n",
    "\n",
    "value_and_grad_fn = jax.jit(jax.value_and_grad(loss_fn))\n",
    "\n",
    "train_lrate = 1e-2\n",
    "optimizer = optax.adam(train_lrate)\n",
    "# optimizer_state = optimizer.init(variables)\n",
    "optimizer_state = optimizer.init(params)\n",
    "n_epochs = 10\n",
    "\n",
    "for epoch in range(n_epochs):\n",
    "    for batch in train_loader:\n",
    "        img, label = batch['image'], batch['label']\n",
    "        loss, grad = value_and_grad_fn(params, img, label)\n",
    "        updates, optimizer_state = optimizer.update(grad, optimizer_state)\n",
    "        params = optax.apply_updates(params, updates)\n",
    "    \n",
    "    acc = accuracy(params, val_img, val_label)\n",
    "    print(f\"Epoch {epoch}, loss {loss:.3f}, accuracy {acc:.3f}\")\n",
    "\n"
   ]
  },
  {
   "cell_type": "code",
   "execution_count": 10,
   "metadata": {},
   "outputs": [
    {
     "name": "stderr",
     "output_type": "stream",
     "text": [
      "/usr/lib64/python3.9/multiprocessing/popen_fork.py:66: RuntimeWarning: os.fork() was called. os.fork() is incompatible with multithreaded code, and JAX is multithreaded, so this will likely lead to a deadlock.\n",
      "  self.pid = os.fork()\n"
     ]
    },
    {
     "name": "stderr",
     "output_type": "stream",
     "text": [
      "/usr/lib64/python3.9/multiprocessing/popen_fork.py:66: RuntimeWarning: os.fork() was called. os.fork() is incompatible with multithreaded code, and JAX is multithreaded, so this will likely lead to a deadlock.\n",
      "  self.pid = os.fork()\n"
     ]
    }
   ],
   "source": [
    "#Exact GGN:\n",
    "variables, unflatten = jax.flatten_util.ravel_pytree(params)\n",
    "model_vec_fn = lambda vec, x: model.apply(unflatten(vec), x)\n",
    "\n",
    "n_params = len(variables)\n",
    "b = batch_size\n",
    "o = 10\n",
    "GGN = 0\n",
    "for batch in train_loader:\n",
    "    img, label = batch['image'], batch['label']\n",
    "    preds = model_vec_fn(variables, img)\n",
    "    pred = jax.nn.softmax(preds, axis=1)\n",
    "    pred = jax.lax.stop_gradient(pred)\n",
    "    D = jax.vmap(jnp.diag)(pred)\n",
    "    H = jnp.einsum(\"bo, bi->boi\", pred, pred)\n",
    "    H = D - H # B, O, O\n",
    "\n",
    "    J = jax.jacfwd(model_vec_fn, argnums=0)(variables, img)\n",
    "    # J = J.reshape(b * o, n_params)\n",
    "    # H = H.reshape(b * o, b * o)\n",
    "    GGN = jnp.einsum(\"mob, boo, bon->mn\", J.T, H, J)\n",
    "    # GGN += J.T @ H @ J\n",
    "\n",
    "leafs, _ = jax.tree_util.tree_flatten(params)\n",
    "N_llla = len(leafs[-1]) + len(leafs[-2])\n",
    "ggn_ll = ggn[-N_llla:, -N_llla:]"
   ]
  },
  {
   "cell_type": "code",
   "execution_count": 11,
   "metadata": {},
   "outputs": [
    {
     "name": "stderr",
     "output_type": "stream",
     "text": [
      "/usr/lib64/python3.9/multiprocessing/popen_fork.py:66: RuntimeWarning: os.fork() was called. os.fork() is incompatible with multithreaded code, and JAX is multithreaded, so this will likely lead to a deadlock.\n",
      "  self.pid = os.fork()\n"
     ]
    },
    {
     "name": "stderr",
     "output_type": "stream",
     "text": [
      "/usr/lib64/python3.9/multiprocessing/popen_fork.py:66: RuntimeWarning: os.fork() was called. os.fork() is incompatible with multithreaded code, and JAX is multithreaded, so this will likely lead to a deadlock.\n",
      "  self.pid = os.fork()\n"
     ]
    }
   ],
   "source": [
    "params_vec, unflatten_fn = jax.flatten_util.ravel_pytree(params)\n",
    "def model_apply_vec(params_vectorized, x):\n",
    "    return model_fn(unflatten_fn(params_vectorized), x)\n",
    "\n",
    "def last_layer_model_fn(last_params_vec, first_params, x):\n",
    "    first_params = jax.lax.stop_gradient(first_params)\n",
    "    vectorized_params = jnp.concatenate([first_params, last_params_vec])\n",
    "    return model_apply_vec(vectorized_params, x)\n",
    "\n",
    "params_ll = params_vec[-N_llla:]\n",
    "ggn_ll_2 = 0\n",
    "for batch in train_loader:\n",
    "    img, label = batch['image'], batch['label']\n",
    "    img = jnp.asarray(img)\n",
    "    pred_vec = model_apply_vec(params_vec, img)\n",
    "    J_ll = jax.jacfwd(last_layer_model_fn, argnums=0)(params_ll, params_vec[:-N_llla], img)\n",
    "    H = jax.hessian(cross_entropy_loss, argnums=0)(pred_vec, label)\n",
    "    H = H.reshape(b * o, b * o)\n",
    "    J_ll = J_ll.reshape(b * o, N_llla)\n",
    "    ggn_ll_2 += J_ll.T @ H @ J_ll\n",
    "    # ggn_ll_2 += last_layer_ggn(model.apply, params, img, \"classification\")"
   ]
  },
  {
   "cell_type": "code",
   "execution_count": 12,
   "metadata": {},
   "outputs": [
    {
     "name": "stderr",
     "output_type": "stream",
     "text": [
      "/usr/lib64/python3.9/multiprocessing/popen_fork.py:66: RuntimeWarning: os.fork() was called. os.fork() is incompatible with multithreaded code, and JAX is multithreaded, so this will likely lead to a deadlock.\n",
      "  self.pid = os.fork()\n"
     ]
    },
    {
     "name": "stderr",
     "output_type": "stream",
     "text": [
      "/usr/lib64/python3.9/multiprocessing/popen_fork.py:66: RuntimeWarning: os.fork() was called. os.fork() is incompatible with multithreaded code, and JAX is multithreaded, so this will likely lead to a deadlock.\n",
      "  self.pid = os.fork()\n"
     ]
    }
   ],
   "source": [
    "ggn_ll_2 = 0\n",
    "for batch in train_loader:\n",
    "    img, label = batch['image'], batch['label']\n",
    "    img = jnp.asarray(img)\n",
    "    ggn_ll_2 += last_layer_ggn(model.apply, params, img, \"classification\")"
   ]
  },
  {
   "cell_type": "code",
   "execution_count": 13,
   "metadata": {},
   "outputs": [
    {
     "data": {
      "text/plain": [
       "Array(False, dtype=bool)"
      ]
     },
     "execution_count": 13,
     "metadata": {},
     "output_type": "execute_result"
    }
   ],
   "source": [
    "jnp.allclose(ggn_ll_2, ggn_ll)"
   ]
  },
  {
   "cell_type": "code",
   "execution_count": null,
   "metadata": {},
   "outputs": [
    {
     "name": "stdout",
     "output_type": "stream",
     "text": [
      "1.009508\n"
     ]
    }
   ],
   "source": [
    "print(jnp.linalg.norm(ggn_ll - ggn_ll_2)/ jnp.linalg.norm(ggn_ll))"
   ]
  },
  {
   "cell_type": "markdown",
   "metadata": {},
   "source": [
    "### Samples"
   ]
  },
  {
   "cell_type": "code",
   "execution_count": 17,
   "metadata": {},
   "outputs": [
    {
     "name": "stderr",
     "output_type": "stream",
     "text": [
      "/usr/lib64/python3.9/multiprocessing/popen_fork.py:66: RuntimeWarning: os.fork() was called. os.fork() is incompatible with multithreaded code, and JAX is multithreaded, so this will likely lead to a deadlock.\n",
      "  self.pid = os.fork()\n",
      "/usr/lib64/python3.9/multiprocessing/popen_fork.py:66: RuntimeWarning: os.fork() was called. os.fork() is incompatible with multithreaded code, and JAX is multithreaded, so this will likely lead to a deadlock.\n",
      "  self.pid = os.fork()\n"
     ]
    }
   ],
   "source": [
    "from src.sampling.last_layer_sampling import sample_last_layer\n",
    "\n",
    "posterior, metrics = sample_last_layer(model.apply, params, 30, 1.0, train_loader, 0, \"classification\")\n"
   ]
  },
  {
   "cell_type": "code",
   "execution_count": 19,
   "metadata": {},
   "outputs": [
    {
     "data": {
      "text/plain": [
       "(30, 26)"
      ]
     },
     "execution_count": 19,
     "metadata": {},
     "output_type": "execute_result"
    }
   ],
   "source": [
    "posterior.shape"
   ]
  },
  {
   "cell_type": "code",
   "execution_count": 29,
   "metadata": {},
   "outputs": [
    {
     "name": "stderr",
     "output_type": "stream",
     "text": [
      "/usr/lib64/python3.9/multiprocessing/popen_fork.py:66: RuntimeWarning: os.fork() was called. os.fork() is incompatible with multithreaded code, and JAX is multithreaded, so this will likely lead to a deadlock.\n",
      "  self.pid = os.fork()\n"
     ]
    },
    {
     "name": "stderr",
     "output_type": "stream",
     "text": [
      "/usr/lib64/python3.9/multiprocessing/popen_fork.py:66: RuntimeWarning: os.fork() was called. os.fork() is incompatible with multithreaded code, and JAX is multithreaded, so this will likely lead to a deadlock.\n",
      "  self.pid = os.fork()\n"
     ]
    }
   ],
   "source": [
    "x_test = next(iter(val_loader))['image']\n",
    "y_test = next(iter(val_loader))['label']\n",
    "def last_layer_predictive(x_test, posterior, params):\n",
    "    leafs, _ = jax.tree_util.tree_flatten(params)\n",
    "    N_llla = len(leafs[-1]) + len(leafs[-2])\n",
    "    params_vec, _ = jax.flatten_util.ravel_pytree(params)\n",
    "    logits = jax.vmap(lambda p: last_layer_model_fn(p, params_vec[:-N_llla], x_test))(posterior)\n",
    "    return logits"
   ]
  },
  {
   "cell_type": "code",
   "execution_count": 30,
   "metadata": {},
   "outputs": [],
   "source": [
    "logits = last_layer_predictive(x_test, posterior, params)\n",
    "preds = jax.nn.softmax(logits, axis=-1)"
   ]
  },
  {
   "cell_type": "code",
   "execution_count": 31,
   "metadata": {},
   "outputs": [],
   "source": [
    "acc_map = jnp.mean(jnp.argmax(model.apply(params, x_test), axis=-1) == jnp.argmax(y_test, axis=-1))"
   ]
  },
  {
   "cell_type": "code",
   "execution_count": 33,
   "metadata": {},
   "outputs": [],
   "source": [
    "acc_posterior = jnp.array(jax.vmap(lambda y_pred: jnp.mean(jnp.argmax(y_pred, axis=-1) == jnp.argmax(y_test, axis=-1)))(preds)).mean()"
   ]
  },
  {
   "cell_type": "code",
   "execution_count": 34,
   "metadata": {},
   "outputs": [
    {
     "data": {
      "text/plain": [
       "Array(0.6526666, dtype=float32)"
      ]
     },
     "execution_count": 34,
     "metadata": {},
     "output_type": "execute_result"
    }
   ],
   "source": [
    "acc_posterior"
   ]
  },
  {
   "cell_type": "code",
   "execution_count": 36,
   "metadata": {},
   "outputs": [
    {
     "data": {
      "text/plain": [
       "Array(0.7, dtype=float32)"
      ]
     },
     "execution_count": 36,
     "metadata": {},
     "output_type": "execute_result"
    }
   ],
   "source": [
    "acc_map"
   ]
  },
  {
   "cell_type": "code",
   "execution_count": null,
   "metadata": {},
   "outputs": [],
   "source": []
  }
 ],
 "metadata": {
  "kernelspec": {
   "display_name": "proj",
   "language": "python",
   "name": "python3"
  },
  "language_info": {
   "codemirror_mode": {
    "name": "ipython",
    "version": 3
   },
   "file_extension": ".py",
   "mimetype": "text/x-python",
   "name": "python",
   "nbconvert_exporter": "python",
   "pygments_lexer": "ipython3",
   "version": "3.9.18"
  }
 },
 "nbformat": 4,
 "nbformat_minor": 2
}
