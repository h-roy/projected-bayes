{
 "cells": [
  {
   "cell_type": "code",
   "execution_count": 1,
   "metadata": {},
   "outputs": [],
   "source": [
    "import pickle\n",
    "import os\n",
    "import argparse\n",
    "import torch\n",
    "from jax import random\n",
    "import json\n",
    "import datetime\n",
    "from src.losses import sse_loss, cross_entropy_loss\n",
    "from src.helper import calculate_exact_ggn, tree_random_normal_like\n",
    "from src.sampling.predictive_samplers import sample_predictive, sample_hessian_predictive\n",
    "from jax import numpy as jnp\n",
    "import jax\n",
    "from jax import flatten_util\n",
    "import matplotlib.pyplot as plt\n",
    "import tree_math as tm\n",
    "from src.laplace.diagonal import hutchinson_diagonal"
   ]
  },
  {
   "cell_type": "code",
   "execution_count": 2,
   "metadata": {},
   "outputs": [],
   "source": [
    "def f(x):\n",
    "    return jnp.sin(5 * x + 1) #+ jnp.cos(25 * x + 1) + jnp.exp(0.1 * x) + 5\n",
    "param_dict = pickle.load(open(\"../checkpoints/syntetic_regression.pickle\", \"rb\"))\n",
    "params = param_dict['params']\n",
    "alpha = param_dict['alpha']\n",
    "rho = param_dict['rho']\n",
    "x_train, y_train, x_val, y_val, model, D = param_dict[\"train_stats\"]['x_train'],param_dict[\"train_stats\"]['y_train'],param_dict[\"train_stats\"]['x_val'],param_dict[\"train_stats\"]['y_val'],param_dict[\"train_stats\"]['model'], param_dict[\"train_stats\"]['n_params']"
   ]
  },
  {
   "cell_type": "code",
   "execution_count": 3,
   "metadata": {},
   "outputs": [],
   "source": [
    "sample_key = jax.random.PRNGKey(100)\n",
    "model_fn = lambda params, x: model.apply(params, x[None, ...])[0]\n",
    "n_params = D \n",
    "def sse_loss(preds, y):\n",
    "    residual = preds - y\n",
    "    return 0.5 * jnp.sum(residual**2)\n",
    "\n",
    "ggn = calculate_exact_ggn(sse_loss, model_fn, params, x_train, y_train, n_params)\n",
    "true_diag = jnp.diag(ggn)"
   ]
  },
  {
   "cell_type": "code",
   "execution_count": 4,
   "metadata": {},
   "outputs": [
    {
     "name": "stdout",
     "output_type": "stream",
     "text": [
      "0.014148062\n"
     ]
    }
   ],
   "source": [
    "model_fn = model.apply\n",
    "gvp_batch_size = 25\n",
    "N = x_train.shape[0]//gvp_batch_size\n",
    "data_array = x_train[: N * gvp_batch_size].reshape((N, gvp_batch_size)+ x_train.shape[1:])\n",
    "n_samples = 10000\n",
    "diag_hutch = hutchinson_diagonal(model_fn, params, gvp_batch_size, n_samples, sample_key, data_array, \"regression\", num_levels=5, computation_type=\"serial\")\n",
    "diag_hutch, _ = jax.flatten_util.ravel_pytree(diag_hutch)\n",
    "print(jnp.linalg.norm(diag_hutch - true_diag) / jnp.linalg.norm(true_diag))"
   ]
  },
  {
   "cell_type": "code",
   "execution_count": 5,
   "metadata": {},
   "outputs": [
    {
     "data": {
      "text/plain": [
       "(100, 1)"
      ]
     },
     "execution_count": 5,
     "metadata": {},
     "output_type": "execute_result"
    }
   ],
   "source": [
    "x_train.shape"
   ]
  },
  {
   "cell_type": "code",
   "execution_count": 6,
   "metadata": {},
   "outputs": [],
   "source": [
    "from src.laplace.diagonal import exact_diagonal\n",
    "output_dim = 1\n",
    "exact_diag = exact_diagonal(model.apply, params, output_dim, x_train, \"regression\")"
   ]
  },
  {
   "cell_type": "code",
   "execution_count": 7,
   "metadata": {},
   "outputs": [
    {
     "name": "stdout",
     "output_type": "stream",
     "text": [
      "7.1693826e-08\n"
     ]
    }
   ],
   "source": [
    "exact_diag, _ = jax.flatten_util.ravel_pytree(exact_diag)\n",
    "print(jnp.linalg.norm(exact_diag - true_diag) / jnp.linalg.norm(true_diag))"
   ]
  },
  {
   "cell_type": "markdown",
   "metadata": {},
   "source": [
    "### Classification"
   ]
  },
  {
   "cell_type": "code",
   "execution_count": 8,
   "metadata": {},
   "outputs": [
    {
     "name": "stderr",
     "output_type": "stream",
     "text": [
      "/dtu/p1/hroy/projected-bayes/src/data/mnist.py:31: UserWarning: To copy construct from a tensor, it is recommended to use sourceTensor.clone().detach() or sourceTensor.clone().detach().requires_grad_(True), rather than torch.tensor(sourceTensor).\n",
      "  self.targets = torch.nn.functional.one_hot(torch.tensor(self.targets), len(classes)).numpy()\n",
      "/usr/lib64/python3.9/multiprocessing/popen_fork.py:66: RuntimeWarning: os.fork() was called. os.fork() is incompatible with multithreaded code, and JAX is multithreaded, so this will likely lead to a deadlock.\n",
      "  self.pid = os.fork()\n",
      "/usr/lib64/python3.9/multiprocessing/popen_fork.py:66: RuntimeWarning: os.fork() was called. os.fork() is incompatible with multithreaded code, and JAX is multithreaded, so this will likely lead to a deadlock.\n",
      "  self.pid = os.fork()\n"
     ]
    },
    {
     "name": "stdout",
     "output_type": "stream",
     "text": [
      "Epoch 0, loss 226.290, accuracy 0.160\n"
     ]
    },
    {
     "name": "stderr",
     "output_type": "stream",
     "text": [
      "/usr/lib64/python3.9/multiprocessing/popen_fork.py:66: RuntimeWarning: os.fork() was called. os.fork() is incompatible with multithreaded code, and JAX is multithreaded, so this will likely lead to a deadlock.\n",
      "  self.pid = os.fork()\n",
      "/usr/lib64/python3.9/multiprocessing/popen_fork.py:66: RuntimeWarning: os.fork() was called. os.fork() is incompatible with multithreaded code, and JAX is multithreaded, so this will likely lead to a deadlock.\n",
      "  self.pid = os.fork()\n"
     ]
    },
    {
     "name": "stdout",
     "output_type": "stream",
     "text": [
      "Epoch 1, loss 214.249, accuracy 0.320\n"
     ]
    },
    {
     "name": "stderr",
     "output_type": "stream",
     "text": [
      "/usr/lib64/python3.9/multiprocessing/popen_fork.py:66: RuntimeWarning: os.fork() was called. os.fork() is incompatible with multithreaded code, and JAX is multithreaded, so this will likely lead to a deadlock.\n",
      "  self.pid = os.fork()\n",
      "/usr/lib64/python3.9/multiprocessing/popen_fork.py:66: RuntimeWarning: os.fork() was called. os.fork() is incompatible with multithreaded code, and JAX is multithreaded, so this will likely lead to a deadlock.\n",
      "  self.pid = os.fork()\n"
     ]
    },
    {
     "name": "stdout",
     "output_type": "stream",
     "text": [
      "Epoch 2, loss 196.323, accuracy 0.420\n"
     ]
    },
    {
     "name": "stderr",
     "output_type": "stream",
     "text": [
      "/usr/lib64/python3.9/multiprocessing/popen_fork.py:66: RuntimeWarning: os.fork() was called. os.fork() is incompatible with multithreaded code, and JAX is multithreaded, so this will likely lead to a deadlock.\n",
      "  self.pid = os.fork()\n",
      "/usr/lib64/python3.9/multiprocessing/popen_fork.py:66: RuntimeWarning: os.fork() was called. os.fork() is incompatible with multithreaded code, and JAX is multithreaded, so this will likely lead to a deadlock.\n",
      "  self.pid = os.fork()\n"
     ]
    },
    {
     "name": "stdout",
     "output_type": "stream",
     "text": [
      "Epoch 3, loss 172.447, accuracy 0.440\n"
     ]
    },
    {
     "name": "stderr",
     "output_type": "stream",
     "text": [
      "/usr/lib64/python3.9/multiprocessing/popen_fork.py:66: RuntimeWarning: os.fork() was called. os.fork() is incompatible with multithreaded code, and JAX is multithreaded, so this will likely lead to a deadlock.\n",
      "  self.pid = os.fork()\n",
      "/usr/lib64/python3.9/multiprocessing/popen_fork.py:66: RuntimeWarning: os.fork() was called. os.fork() is incompatible with multithreaded code, and JAX is multithreaded, so this will likely lead to a deadlock.\n",
      "  self.pid = os.fork()\n"
     ]
    },
    {
     "name": "stdout",
     "output_type": "stream",
     "text": [
      "Epoch 4, loss 145.665, accuracy 0.530\n"
     ]
    },
    {
     "name": "stderr",
     "output_type": "stream",
     "text": [
      "/usr/lib64/python3.9/multiprocessing/popen_fork.py:66: RuntimeWarning: os.fork() was called. os.fork() is incompatible with multithreaded code, and JAX is multithreaded, so this will likely lead to a deadlock.\n",
      "  self.pid = os.fork()\n",
      "/usr/lib64/python3.9/multiprocessing/popen_fork.py:66: RuntimeWarning: os.fork() was called. os.fork() is incompatible with multithreaded code, and JAX is multithreaded, so this will likely lead to a deadlock.\n",
      "  self.pid = os.fork()\n"
     ]
    },
    {
     "name": "stdout",
     "output_type": "stream",
     "text": [
      "Epoch 5, loss 121.063, accuracy 0.610\n"
     ]
    },
    {
     "name": "stderr",
     "output_type": "stream",
     "text": [
      "/usr/lib64/python3.9/multiprocessing/popen_fork.py:66: RuntimeWarning: os.fork() was called. os.fork() is incompatible with multithreaded code, and JAX is multithreaded, so this will likely lead to a deadlock.\n",
      "  self.pid = os.fork()\n",
      "/usr/lib64/python3.9/multiprocessing/popen_fork.py:66: RuntimeWarning: os.fork() was called. os.fork() is incompatible with multithreaded code, and JAX is multithreaded, so this will likely lead to a deadlock.\n",
      "  self.pid = os.fork()\n"
     ]
    },
    {
     "name": "stdout",
     "output_type": "stream",
     "text": [
      "Epoch 6, loss 104.405, accuracy 0.610\n"
     ]
    },
    {
     "name": "stderr",
     "output_type": "stream",
     "text": [
      "/usr/lib64/python3.9/multiprocessing/popen_fork.py:66: RuntimeWarning: os.fork() was called. os.fork() is incompatible with multithreaded code, and JAX is multithreaded, so this will likely lead to a deadlock.\n",
      "  self.pid = os.fork()\n",
      "/usr/lib64/python3.9/multiprocessing/popen_fork.py:66: RuntimeWarning: os.fork() was called. os.fork() is incompatible with multithreaded code, and JAX is multithreaded, so this will likely lead to a deadlock.\n",
      "  self.pid = os.fork()\n"
     ]
    },
    {
     "name": "stdout",
     "output_type": "stream",
     "text": [
      "Epoch 7, loss 93.491, accuracy 0.650\n"
     ]
    },
    {
     "name": "stderr",
     "output_type": "stream",
     "text": [
      "/usr/lib64/python3.9/multiprocessing/popen_fork.py:66: RuntimeWarning: os.fork() was called. os.fork() is incompatible with multithreaded code, and JAX is multithreaded, so this will likely lead to a deadlock.\n",
      "  self.pid = os.fork()\n",
      "/usr/lib64/python3.9/multiprocessing/popen_fork.py:66: RuntimeWarning: os.fork() was called. os.fork() is incompatible with multithreaded code, and JAX is multithreaded, so this will likely lead to a deadlock.\n",
      "  self.pid = os.fork()\n"
     ]
    },
    {
     "name": "stdout",
     "output_type": "stream",
     "text": [
      "Epoch 8, loss 85.288, accuracy 0.690\n"
     ]
    },
    {
     "name": "stderr",
     "output_type": "stream",
     "text": [
      "/usr/lib64/python3.9/multiprocessing/popen_fork.py:66: RuntimeWarning: os.fork() was called. os.fork() is incompatible with multithreaded code, and JAX is multithreaded, so this will likely lead to a deadlock.\n",
      "  self.pid = os.fork()\n",
      "/usr/lib64/python3.9/multiprocessing/popen_fork.py:66: RuntimeWarning: os.fork() was called. os.fork() is incompatible with multithreaded code, and JAX is multithreaded, so this will likely lead to a deadlock.\n",
      "  self.pid = os.fork()\n"
     ]
    },
    {
     "name": "stdout",
     "output_type": "stream",
     "text": [
      "Epoch 9, loss 78.926, accuracy 0.700\n"
     ]
    }
   ],
   "source": [
    "import optax\n",
    "from src.models import ConvNet\n",
    "from src.data import get_mnist\n",
    "from src.losses import cross_entropy_loss\n",
    "\n",
    "def accuracy(v, x, y):\n",
    "    logits = model_fn(v, x)\n",
    "    return jnp.mean(jnp.argmax(logits, axis=-1) == jnp.argmax(y, axis=-1))\n",
    "\n",
    "model = ConvNet(10)\n",
    "batch_size = 100\n",
    "train_loader, val_loader, _ = get_mnist(batch_size, n_samples_per_class=100)\n",
    "val_img, val_label = next(iter(val_loader))['image'], next(iter(val_loader))['label']\n",
    "params = model.init(random.PRNGKey(0), next(iter(train_loader))['image'])\n",
    "variables, unflatten = jax.flatten_util.ravel_pytree(params)\n",
    "# model_fn = lambda vec, x: model.apply(unflatten(vec), x)\n",
    "model_fn = model.apply\n",
    "def loss_fn(v, x, y):\n",
    "    logits = model_fn(v, x)\n",
    "    return cross_entropy_loss(logits, y)\n",
    "\n",
    "value_and_grad_fn = jax.jit(jax.value_and_grad(loss_fn))\n",
    "\n",
    "train_lrate = 1e-2\n",
    "optimizer = optax.adam(train_lrate)\n",
    "# optimizer_state = optimizer.init(variables)\n",
    "optimizer_state = optimizer.init(params)\n",
    "n_epochs = 10\n",
    "\n",
    "for epoch in range(n_epochs):\n",
    "    for batch in train_loader:\n",
    "        img, label = batch['image'], batch['label']\n",
    "        loss, grad = value_and_grad_fn(params, img, label)\n",
    "        updates, optimizer_state = optimizer.update(grad, optimizer_state)\n",
    "        params = optax.apply_updates(params, updates)\n",
    "    \n",
    "    acc = accuracy(params, val_img, val_label)\n",
    "    print(f\"Epoch {epoch}, loss {loss:.3f}, accuracy {acc:.3f}\")\n",
    "\n"
   ]
  },
  {
   "cell_type": "code",
   "execution_count": 9,
   "metadata": {},
   "outputs": [
    {
     "name": "stderr",
     "output_type": "stream",
     "text": [
      "/usr/lib64/python3.9/multiprocessing/popen_fork.py:66: RuntimeWarning: os.fork() was called. os.fork() is incompatible with multithreaded code, and JAX is multithreaded, so this will likely lead to a deadlock.\n",
      "  self.pid = os.fork()\n"
     ]
    },
    {
     "name": "stderr",
     "output_type": "stream",
     "text": [
      "/usr/lib64/python3.9/multiprocessing/popen_fork.py:66: RuntimeWarning: os.fork() was called. os.fork() is incompatible with multithreaded code, and JAX is multithreaded, so this will likely lead to a deadlock.\n",
      "  self.pid = os.fork()\n"
     ]
    }
   ],
   "source": [
    "#Exact GGN:\n",
    "variables, unflatten = jax.flatten_util.ravel_pytree(params)\n",
    "model_vec_fn = lambda vec, x: model.apply(unflatten(vec), x)\n",
    "\n",
    "n_params = len(variables)\n",
    "b = batch_size\n",
    "o = 10\n",
    "GGN = 0\n",
    "for batch in train_loader:\n",
    "    img, label = batch['image'], batch['label']\n",
    "    preds = model_vec_fn(variables, img)\n",
    "    J = jax.jacfwd(model_vec_fn, argnums=0)(variables, img)\n",
    "    H = jax.hessian(cross_entropy_loss, argnums=0)(preds, label)\n",
    "    J = J.reshape(b * o, n_params)\n",
    "    H = H.reshape(b * o, b * o)\n",
    "    GGN += J.T @ H @ J\n",
    "\n",
    "exact_diag = jnp.diag(GGN)\n"
   ]
  },
  {
   "cell_type": "code",
   "execution_count": 10,
   "metadata": {},
   "outputs": [
    {
     "name": "stderr",
     "output_type": "stream",
     "text": [
      "/usr/lib64/python3.9/multiprocessing/popen_fork.py:66: RuntimeWarning: os.fork() was called. os.fork() is incompatible with multithreaded code, and JAX is multithreaded, so this will likely lead to a deadlock.\n",
      "  self.pid = os.fork()\n"
     ]
    },
    {
     "name": "stderr",
     "output_type": "stream",
     "text": [
      "/usr/lib64/python3.9/multiprocessing/popen_fork.py:66: RuntimeWarning: os.fork() was called. os.fork() is incompatible with multithreaded code, and JAX is multithreaded, so this will likely lead to a deadlock.\n",
      "  self.pid = os.fork()\n"
     ]
    },
    {
     "name": "stdout",
     "output_type": "stream",
     "text": [
      "Hutchinson Relative Error: 0.07119679\n"
     ]
    }
   ],
   "source": [
    "n_samples = 200\n",
    "sample_key = random.PRNGKey(0)\n",
    "diag_hutch = 0\n",
    "gvp_batch_size = 50\n",
    "assert batch_size % gvp_batch_size == 0\n",
    "for batch in train_loader:\n",
    "    img, label = batch['image'], batch['label']\n",
    "    data_array = jnp.asarray(img).reshape((-1, gvp_batch_size) +  img.shape[1:])\n",
    "    diag_hutch += jax.flatten_util.ravel_pytree(hutchinson_diagonal(model.apply, params, gvp_batch_size, n_samples, sample_key, data_array, \"classification\", num_levels=2, computation_type=\"parallel\"))[0]\n",
    "\n",
    "print(\"Hutchinson Relative Error:\", jnp.linalg.norm(exact_diag - diag_hutch)/ jnp.linalg.norm(exact_diag))\n"
   ]
  },
  {
   "cell_type": "code",
   "execution_count": 11,
   "metadata": {},
   "outputs": [
    {
     "name": "stderr",
     "output_type": "stream",
     "text": [
      "/usr/lib64/python3.9/multiprocessing/popen_fork.py:66: RuntimeWarning: os.fork() was called. os.fork() is incompatible with multithreaded code, and JAX is multithreaded, so this will likely lead to a deadlock.\n",
      "  self.pid = os.fork()\n"
     ]
    },
    {
     "name": "stderr",
     "output_type": "stream",
     "text": [
      "/usr/lib64/python3.9/multiprocessing/popen_fork.py:66: RuntimeWarning: os.fork() was called. os.fork() is incompatible with multithreaded code, and JAX is multithreaded, so this will likely lead to a deadlock.\n",
      "  self.pid = os.fork()\n"
     ]
    },
    {
     "name": "stdout",
     "output_type": "stream",
     "text": [
      "Autograd Relative Error: 9.113158e-08\n"
     ]
    }
   ],
   "source": [
    "diag_autograd = 0\n",
    "output_dim = 10\n",
    "for batch in train_loader:\n",
    "    img, label = batch['image'], batch['label']\n",
    "    img, label = jnp.asarray(img), jnp.asarray(label)\n",
    "    diag_autograd += jax.flatten_util.ravel_pytree(exact_diagonal(model.apply, params, output_dim, img, \"classification\"))[0]\n",
    "\n",
    "print(\"Autograd Relative Error:\", jnp.linalg.norm(exact_diag - diag_autograd)/ jnp.linalg.norm(exact_diag))\n"
   ]
  },
  {
   "cell_type": "markdown",
   "metadata": {},
   "source": [
    "### Samples"
   ]
  },
  {
   "cell_type": "code",
   "execution_count": 16,
   "metadata": {},
   "outputs": [
    {
     "name": "stderr",
     "output_type": "stream",
     "text": [
      "Training:   0%|          | 0/9 [00:00<?, ?it/s]/usr/lib64/python3.9/multiprocessing/popen_fork.py:66: RuntimeWarning: os.fork() was called. os.fork() is incompatible with multithreaded code, and JAX is multithreaded, so this will likely lead to a deadlock.\n",
      "  self.pid = os.fork()\n",
      "Training: 100%|██████████| 9/9 [00:03<00:00,  2.30it/s]/usr/lib64/python3.9/multiprocessing/popen_fork.py:66: RuntimeWarning: os.fork() was called. os.fork() is incompatible with multithreaded code, and JAX is multithreaded, so this will likely lead to a deadlock.\n",
      "  self.pid = os.fork()\n",
      "                                                       \r"
     ]
    }
   ],
   "source": [
    "from src.sampling.diagonal_lapalce_sampling import sample_exact_diagonal, sample_hutchinson\n",
    "\n",
    "posterior, metrics = sample_exact_diagonal(model.apply, params, 30, 1.0, train_loader, 0,10)\n"
   ]
  },
  {
   "cell_type": "code",
   "execution_count": 17,
   "metadata": {},
   "outputs": [],
   "source": [
    "params_vec, unflatten = jax.flatten_util.ravel_pytree(params)\n",
    "model_fn_vec = lambda p, x: model.apply(unflatten(p), x)\n",
    "x_test = next(iter(val_loader))['image']\n",
    "y_test = next(iter(val_loader))['label']\n",
    "logits = jax.vmap(model_fn_vec, in_axes=(0, None))(posterior, x_test)\n",
    "preds = jax.nn.softmax(logits, axis=-1)\n",
    "acc_map = jnp.mean(jnp.argmax(model.apply(params, x_test), axis=-1) == jnp.argmax(y_test, axis=-1))\n",
    "acc_posterior = jnp.array(jax.vmap(lambda y_pred: jnp.mean(jnp.argmax(y_pred, axis=-1) == jnp.argmax(y_test, axis=-1)))(preds)).mean()"
   ]
  },
  {
   "cell_type": "code",
   "execution_count": 18,
   "metadata": {},
   "outputs": [
    {
     "name": "stdout",
     "output_type": "stream",
     "text": [
      "MAP Accuracy 0.7\n",
      "Posterior Accuracy 0.64166665\n"
     ]
    }
   ],
   "source": [
    "print(\"MAP Accuracy\", acc_map)\n",
    "print(\"Posterior Accuracy\", acc_posterior)"
   ]
  },
  {
   "cell_type": "code",
   "execution_count": 19,
   "metadata": {},
   "outputs": [
    {
     "name": "stderr",
     "output_type": "stream",
     "text": [
      "Training:   0%|          | 0/9 [00:00<?, ?it/s]/usr/lib64/python3.9/multiprocessing/popen_fork.py:66: RuntimeWarning: os.fork() was called. os.fork() is incompatible with multithreaded code, and JAX is multithreaded, so this will likely lead to a deadlock.\n",
      "  self.pid = os.fork()\n",
      "Training: 100%|██████████| 9/9 [00:11<00:00,  1.30s/it]/usr/lib64/python3.9/multiprocessing/popen_fork.py:66: RuntimeWarning: os.fork() was called. os.fork() is incompatible with multithreaded code, and JAX is multithreaded, so this will likely lead to a deadlock.\n",
      "  self.pid = os.fork()\n",
      "                                                       \r"
     ]
    }
   ],
   "source": [
    "posterior, metrics = sample_hutchinson(model.apply, params, 30, 1.0, 50, train_loader, 0, 3, 200, \"classification\", computation_type=\"parallel\")\n"
   ]
  },
  {
   "cell_type": "code",
   "execution_count": 20,
   "metadata": {},
   "outputs": [],
   "source": [
    "params_vec, unflatten = jax.flatten_util.ravel_pytree(params)\n",
    "model_fn_vec = lambda p, x: model.apply(unflatten(p), x)\n",
    "x_test = next(iter(val_loader))['image']\n",
    "y_test = next(iter(val_loader))['label']\n",
    "logits = jax.vmap(model_fn_vec, in_axes=(0, None))(posterior, x_test)\n",
    "preds = jax.nn.softmax(logits, axis=-1)\n",
    "acc_map = jnp.mean(jnp.argmax(model.apply(params, x_test), axis=-1) == jnp.argmax(y_test, axis=-1))\n",
    "acc_posterior = jnp.array(jax.vmap(lambda y_pred: jnp.mean(jnp.argmax(y_pred, axis=-1) == jnp.argmax(y_test, axis=-1)))(preds)).mean()"
   ]
  },
  {
   "cell_type": "code",
   "execution_count": 21,
   "metadata": {},
   "outputs": [
    {
     "name": "stdout",
     "output_type": "stream",
     "text": [
      "MAP Accuracy 0.7\n",
      "Posterior Accuracy 0.69633335\n"
     ]
    }
   ],
   "source": [
    "print(\"MAP Accuracy\", acc_map)\n",
    "print(\"Posterior Accuracy\", acc_posterior)"
   ]
  },
  {
   "cell_type": "code",
   "execution_count": null,
   "metadata": {},
   "outputs": [],
   "source": []
  }
 ],
 "metadata": {
  "kernelspec": {
   "display_name": "proj",
   "language": "python",
   "name": "python3"
  },
  "language_info": {
   "codemirror_mode": {
    "name": "ipython",
    "version": 3
   },
   "file_extension": ".py",
   "mimetype": "text/x-python",
   "name": "python",
   "nbconvert_exporter": "python",
   "pygments_lexer": "ipython3",
   "version": "3.9.18"
  }
 },
 "nbformat": 4,
 "nbformat_minor": 2
}
