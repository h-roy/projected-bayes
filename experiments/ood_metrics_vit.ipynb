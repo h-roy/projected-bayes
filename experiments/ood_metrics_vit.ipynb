{
 "cells": [
  {
   "cell_type": "code",
   "execution_count": 2,
   "metadata": {},
   "outputs": [],
   "source": [
    "import pickle\n",
    "import os\n",
    "import argparse\n",
    "import torch\n",
    "from jax import random\n",
    "import json\n",
    "import datetime\n",
    "from src.losses import sse_loss\n",
    "from src.helper import calculate_exact_ggn, tree_random_normal_like, compute_num_params\n",
    "from src.sampling.predictive_samplers import sample_predictive, sample_hessian_predictive\n",
    "from jax import numpy as jnp\n",
    "import jax\n",
    "from jax import flatten_util\n",
    "import matplotlib.pyplot as plt\n",
    "from src.models import LeNet\n",
    "from src.data.datasets import get_rotated_cifar_loaders, get_cifar10_ood_loaders, load_corrupted_cifar10_per_type, load_corrupted_cifar10\n",
    "from src.ood_functions.evaluate import evaluate, evaluate_map\n",
    "from src.ood_functions.metrics import compute_metrics\n",
    "from src.data import n_classes, MNIST\n",
    "from collections import defaultdict\n",
    "from src.data import CIFAR10, n_classes\n",
    "from src.models import VisionTransformer\n",
    "from flax import linen as nn\n",
    "\n"
   ]
  },
  {
   "cell_type": "markdown",
   "metadata": {},
   "source": [
    "### Load All Models"
   ]
  },
  {
   "cell_type": "code",
   "execution_count": 13,
   "metadata": {},
   "outputs": [],
   "source": [
    "lr_posterior = pickle.load(open(\"../checkpoints/CIFAR-10/proj_posterior_samples_big_vit_seed0_params.pickle\", \"rb\"))['posterior_samples']\n",
    "param_dict = pickle.load(open(\"../checkpoints/ViT2024-03-30-23-30-29/VisionTransformer_CIFAR10_42_params.pickle\", \"rb\"))\n",
    "params = param_dict['params']\n",
    "batch_stats = param_dict['batch_stats']"
   ]
  },
  {
   "cell_type": "code",
   "execution_count": 14,
   "metadata": {},
   "outputs": [
    {
     "name": "stdout",
     "output_type": "stream",
     "text": [
      "Files already downloaded and verified\n"
     ]
    }
   ],
   "source": [
    "from src.data.utils import get_mean_and_std\n",
    "\n",
    "\n",
    "hparams = {\n",
    "        \"embed_dim\": 256,\n",
    "        \"hidden_dim\": 512,\n",
    "        \"num_heads\": 8,\n",
    "        \"num_layers\": 6,\n",
    "        \"patch_size\": 4,\n",
    "        \"num_channels\": 3,\n",
    "        \"num_patches\": 64,\n",
    "        \"num_classes\": 10,\n",
    "        \"dropout_prob\": 0.1,\n",
    "    }\n",
    "model = VisionTransformer(**hparams)\n",
    "\n",
    "n_samples_per_class = None\n",
    "cls=list(range(10))\n",
    "train_stats = get_mean_and_std(\n",
    "        data_train=CIFAR10(path_root='/dtu/p1/hroy/data', set_purp=\"train\", n_samples=None, download=True, cls=cls),\n",
    "        val_frac=0.1,\n",
    "        seed=0,\n",
    "    )\n",
    "\n",
    "model_fn = lambda p, x: model.apply({'params': p},\n",
    "                                        x,\n",
    "                                        train=False,\n",
    "                                        rngs={'dropout': param_dict['rng']})\n",
    "\n",
    "# dataset = CIFAR10(path_root='/dtu/p1/hroy/data', train=True, n_samples_per_class=n_samples_per_class, download=True, cls=cls, seed=0)"
   ]
  },
  {
   "cell_type": "code",
   "execution_count": 15,
   "metadata": {},
   "outputs": [
    {
     "name": "stdout",
     "output_type": "stream",
     "text": [
      "Files already downloaded and verified\n"
     ]
    },
    {
     "name": "stderr",
     "output_type": "stream",
     "text": [
      "/usr/lib64/python3.9/multiprocessing/popen_fork.py:66: RuntimeWarning: os.fork() was called. os.fork() is incompatible with multithreaded code, and JAX is multithreaded, so this will likely lead to a deadlock.\n",
      "  self.pid = os.fork()\n",
      "/usr/lib64/python3.9/multiprocessing/popen_fork.py:66: RuntimeWarning: os.fork() was called. os.fork() is incompatible with multithreaded code, and JAX is multithreaded, so this will likely lead to a deadlock.\n",
      "  self.pid = os.fork()\n"
     ]
    },
    {
     "name": "stdout",
     "output_type": "stream",
     "text": [
      "R-MNIST with distribution shift intensity 0\n"
     ]
    },
    {
     "name": "stderr",
     "output_type": "stream",
     "text": [
      "/usr/lib64/python3.9/multiprocessing/popen_fork.py:66: RuntimeWarning: os.fork() was called. os.fork() is incompatible with multithreaded code, and JAX is multithreaded, so this will likely lead to a deadlock.\n",
      "  self.pid = os.fork()\n",
      "/usr/lib64/python3.9/multiprocessing/popen_fork.py:66: RuntimeWarning: os.fork() was called. os.fork() is incompatible with multithreaded code, and JAX is multithreaded, so this will likely lead to a deadlock.\n",
      "  self.pid = os.fork()\n",
      "/dtu/p1/hroy/projected-bayes/proj/lib64/python3.9/site-packages/numpy/core/fromnumeric.py:3504: RuntimeWarning: Mean of empty slice.\n",
      "  return _methods._mean(a, axis=axis, dtype=dtype,\n",
      "/dtu/p1/hroy/projected-bayes/proj/lib64/python3.9/site-packages/numpy/core/_methods.py:129: RuntimeWarning: invalid value encountered in scalar divide\n",
      "  ret = ret.dtype.type(ret / rcount)\n",
      "/dtu/p1/hroy/projected-bayes/proj/lib64/python3.9/site-packages/numpy/core/_methods.py:129: RuntimeWarning: invalid value encountered in divide\n",
      "  ret = ret.dtype.type(ret / rcount)\n"
     ]
    },
    {
     "name": "stdout",
     "output_type": "stream",
     "text": [
      "conf: 0.9102, nll: 442.9528, acc: 0.7960, brier: 0.3370, ece: 0.2663, mce: 0.8162\n",
      "Files already downloaded and verified\n",
      "R-MNIST with distribution shift intensity 1\n"
     ]
    },
    {
     "name": "stderr",
     "output_type": "stream",
     "text": [
      "/usr/lib64/python3.9/multiprocessing/popen_fork.py:66: RuntimeWarning: os.fork() was called. os.fork() is incompatible with multithreaded code, and JAX is multithreaded, so this will likely lead to a deadlock.\n",
      "  self.pid = os.fork()\n",
      "/usr/lib64/python3.9/multiprocessing/popen_fork.py:66: RuntimeWarning: os.fork() was called. os.fork() is incompatible with multithreaded code, and JAX is multithreaded, so this will likely lead to a deadlock.\n",
      "  self.pid = os.fork()\n",
      "/dtu/p1/hroy/projected-bayes/proj/lib64/python3.9/site-packages/numpy/core/fromnumeric.py:3504: RuntimeWarning: Mean of empty slice.\n",
      "  return _methods._mean(a, axis=axis, dtype=dtype,\n",
      "/dtu/p1/hroy/projected-bayes/proj/lib64/python3.9/site-packages/numpy/core/_methods.py:129: RuntimeWarning: invalid value encountered in scalar divide\n",
      "  ret = ret.dtype.type(ret / rcount)\n",
      "/dtu/p1/hroy/projected-bayes/proj/lib64/python3.9/site-packages/numpy/core/_methods.py:129: RuntimeWarning: invalid value encountered in divide\n",
      "  ret = ret.dtype.type(ret / rcount)\n"
     ]
    },
    {
     "name": "stdout",
     "output_type": "stream",
     "text": [
      "conf: 0.8288, nll: 4222.8994, acc: 0.1440, brier: 1.4804, ece: 0.6468, mce: 0.9652\n",
      "Files already downloaded and verified\n",
      "R-MNIST with distribution shift intensity 2\n"
     ]
    },
    {
     "name": "stderr",
     "output_type": "stream",
     "text": [
      "/usr/lib64/python3.9/multiprocessing/popen_fork.py:66: RuntimeWarning: os.fork() was called. os.fork() is incompatible with multithreaded code, and JAX is multithreaded, so this will likely lead to a deadlock.\n",
      "  self.pid = os.fork()\n",
      "/usr/lib64/python3.9/multiprocessing/popen_fork.py:66: RuntimeWarning: os.fork() was called. os.fork() is incompatible with multithreaded code, and JAX is multithreaded, so this will likely lead to a deadlock.\n",
      "  self.pid = os.fork()\n",
      "/dtu/p1/hroy/projected-bayes/proj/lib64/python3.9/site-packages/numpy/core/fromnumeric.py:3504: RuntimeWarning: Mean of empty slice.\n",
      "  return _methods._mean(a, axis=axis, dtype=dtype,\n",
      "/dtu/p1/hroy/projected-bayes/proj/lib64/python3.9/site-packages/numpy/core/_methods.py:129: RuntimeWarning: invalid value encountered in scalar divide\n",
      "  ret = ret.dtype.type(ret / rcount)\n",
      "/dtu/p1/hroy/projected-bayes/proj/lib64/python3.9/site-packages/numpy/core/_methods.py:129: RuntimeWarning: invalid value encountered in divide\n",
      "  ret = ret.dtype.type(ret / rcount)\n"
     ]
    },
    {
     "name": "stdout",
     "output_type": "stream",
     "text": [
      "conf: 0.8874, nll: 5786.3560, acc: 0.0940, brier: 1.6449, ece: 0.7195, mce: 0.9447\n",
      "Files already downloaded and verified\n",
      "R-MNIST with distribution shift intensity 3\n"
     ]
    },
    {
     "name": "stderr",
     "output_type": "stream",
     "text": [
      "/usr/lib64/python3.9/multiprocessing/popen_fork.py:66: RuntimeWarning: os.fork() was called. os.fork() is incompatible with multithreaded code, and JAX is multithreaded, so this will likely lead to a deadlock.\n",
      "  self.pid = os.fork()\n",
      "/usr/lib64/python3.9/multiprocessing/popen_fork.py:66: RuntimeWarning: os.fork() was called. os.fork() is incompatible with multithreaded code, and JAX is multithreaded, so this will likely lead to a deadlock.\n",
      "  self.pid = os.fork()\n",
      "/dtu/p1/hroy/projected-bayes/proj/lib64/python3.9/site-packages/numpy/core/fromnumeric.py:3504: RuntimeWarning: Mean of empty slice.\n",
      "  return _methods._mean(a, axis=axis, dtype=dtype,\n",
      "/dtu/p1/hroy/projected-bayes/proj/lib64/python3.9/site-packages/numpy/core/_methods.py:129: RuntimeWarning: invalid value encountered in scalar divide\n",
      "  ret = ret.dtype.type(ret / rcount)\n",
      "/dtu/p1/hroy/projected-bayes/proj/lib64/python3.9/site-packages/numpy/core/_methods.py:129: RuntimeWarning: invalid value encountered in divide\n",
      "  ret = ret.dtype.type(ret / rcount)\n"
     ]
    },
    {
     "name": "stdout",
     "output_type": "stream",
     "text": [
      "conf: 0.8899, nll: 5985.2148, acc: 0.0880, brier: 1.6585, ece: 0.7173, mce: 0.9754\n",
      "Files already downloaded and verified\n",
      "R-MNIST with distribution shift intensity 4\n"
     ]
    },
    {
     "name": "stderr",
     "output_type": "stream",
     "text": [
      "/usr/lib64/python3.9/multiprocessing/popen_fork.py:66: RuntimeWarning: os.fork() was called. os.fork() is incompatible with multithreaded code, and JAX is multithreaded, so this will likely lead to a deadlock.\n",
      "  self.pid = os.fork()\n",
      "/usr/lib64/python3.9/multiprocessing/popen_fork.py:66: RuntimeWarning: os.fork() was called. os.fork() is incompatible with multithreaded code, and JAX is multithreaded, so this will likely lead to a deadlock.\n",
      "  self.pid = os.fork()\n",
      "/dtu/p1/hroy/projected-bayes/proj/lib64/python3.9/site-packages/numpy/core/fromnumeric.py:3504: RuntimeWarning: Mean of empty slice.\n",
      "  return _methods._mean(a, axis=axis, dtype=dtype,\n",
      "/dtu/p1/hroy/projected-bayes/proj/lib64/python3.9/site-packages/numpy/core/_methods.py:129: RuntimeWarning: invalid value encountered in scalar divide\n",
      "  ret = ret.dtype.type(ret / rcount)\n",
      "/dtu/p1/hroy/projected-bayes/proj/lib64/python3.9/site-packages/numpy/core/_methods.py:129: RuntimeWarning: invalid value encountered in divide\n",
      "  ret = ret.dtype.type(ret / rcount)\n"
     ]
    },
    {
     "name": "stdout",
     "output_type": "stream",
     "text": [
      "conf: 0.8439, nll: 4721.1152, acc: 0.1120, brier: 1.5601, ece: 0.6824, mce: 0.9758\n",
      "Files already downloaded and verified\n",
      "R-MNIST with distribution shift intensity 5\n"
     ]
    },
    {
     "name": "stderr",
     "output_type": "stream",
     "text": [
      "/usr/lib64/python3.9/multiprocessing/popen_fork.py:66: RuntimeWarning: os.fork() was called. os.fork() is incompatible with multithreaded code, and JAX is multithreaded, so this will likely lead to a deadlock.\n",
      "  self.pid = os.fork()\n",
      "/usr/lib64/python3.9/multiprocessing/popen_fork.py:66: RuntimeWarning: os.fork() was called. os.fork() is incompatible with multithreaded code, and JAX is multithreaded, so this will likely lead to a deadlock.\n",
      "  self.pid = os.fork()\n",
      "/dtu/p1/hroy/projected-bayes/proj/lib64/python3.9/site-packages/numpy/core/fromnumeric.py:3504: RuntimeWarning: Mean of empty slice.\n",
      "  return _methods._mean(a, axis=axis, dtype=dtype,\n",
      "/dtu/p1/hroy/projected-bayes/proj/lib64/python3.9/site-packages/numpy/core/_methods.py:129: RuntimeWarning: invalid value encountered in scalar divide\n",
      "  ret = ret.dtype.type(ret / rcount)\n",
      "/dtu/p1/hroy/projected-bayes/proj/lib64/python3.9/site-packages/numpy/core/_methods.py:129: RuntimeWarning: invalid value encountered in divide\n",
      "  ret = ret.dtype.type(ret / rcount)\n"
     ]
    },
    {
     "name": "stdout",
     "output_type": "stream",
     "text": [
      "conf: 0.9027, nll: 6142.6602, acc: 0.0940, brier: 1.6887, ece: 0.7143, mce: 0.9757\n",
      "Files already downloaded and verified\n",
      "R-MNIST with distribution shift intensity 6\n"
     ]
    },
    {
     "name": "stderr",
     "output_type": "stream",
     "text": [
      "/usr/lib64/python3.9/multiprocessing/popen_fork.py:66: RuntimeWarning: os.fork() was called. os.fork() is incompatible with multithreaded code, and JAX is multithreaded, so this will likely lead to a deadlock.\n",
      "  self.pid = os.fork()\n",
      "/usr/lib64/python3.9/multiprocessing/popen_fork.py:66: RuntimeWarning: os.fork() was called. os.fork() is incompatible with multithreaded code, and JAX is multithreaded, so this will likely lead to a deadlock.\n",
      "  self.pid = os.fork()\n",
      "/dtu/p1/hroy/projected-bayes/proj/lib64/python3.9/site-packages/numpy/core/fromnumeric.py:3504: RuntimeWarning: Mean of empty slice.\n",
      "  return _methods._mean(a, axis=axis, dtype=dtype,\n",
      "/dtu/p1/hroy/projected-bayes/proj/lib64/python3.9/site-packages/numpy/core/_methods.py:129: RuntimeWarning: invalid value encountered in scalar divide\n",
      "  ret = ret.dtype.type(ret / rcount)\n",
      "/dtu/p1/hroy/projected-bayes/proj/lib64/python3.9/site-packages/numpy/core/_methods.py:129: RuntimeWarning: invalid value encountered in divide\n",
      "  ret = ret.dtype.type(ret / rcount)\n"
     ]
    },
    {
     "name": "stdout",
     "output_type": "stream",
     "text": [
      "conf: 0.8781, nll: 5837.8037, acc: 0.0880, brier: 1.6521, ece: 0.7151, mce: 0.9520\n",
      "Files already downloaded and verified\n",
      "R-MNIST with distribution shift intensity 7\n"
     ]
    },
    {
     "name": "stderr",
     "output_type": "stream",
     "text": [
      "/usr/lib64/python3.9/multiprocessing/popen_fork.py:66: RuntimeWarning: os.fork() was called. os.fork() is incompatible with multithreaded code, and JAX is multithreaded, so this will likely lead to a deadlock.\n",
      "  self.pid = os.fork()\n",
      "/usr/lib64/python3.9/multiprocessing/popen_fork.py:66: RuntimeWarning: os.fork() was called. os.fork() is incompatible with multithreaded code, and JAX is multithreaded, so this will likely lead to a deadlock.\n",
      "  self.pid = os.fork()\n"
     ]
    },
    {
     "name": "stdout",
     "output_type": "stream",
     "text": [
      "conf: 0.8560, nll: 2187.9541, acc: 0.4320, brier: 0.9659, ece: 0.4641, mce: 0.8367\n"
     ]
    },
    {
     "name": "stderr",
     "output_type": "stream",
     "text": [
      "/dtu/p1/hroy/projected-bayes/proj/lib64/python3.9/site-packages/numpy/core/fromnumeric.py:3504: RuntimeWarning: Mean of empty slice.\n",
      "  return _methods._mean(a, axis=axis, dtype=dtype,\n",
      "/dtu/p1/hroy/projected-bayes/proj/lib64/python3.9/site-packages/numpy/core/_methods.py:129: RuntimeWarning: invalid value encountered in scalar divide\n",
      "  ret = ret.dtype.type(ret / rcount)\n",
      "/dtu/p1/hroy/projected-bayes/proj/lib64/python3.9/site-packages/numpy/core/_methods.py:129: RuntimeWarning: invalid value encountered in divide\n",
      "  ret = ret.dtype.type(ret / rcount)\n"
     ]
    }
   ],
   "source": [
    "eval_args = {}\n",
    "eval_args[\"linearised_laplace\"] = True\n",
    "eval_args[\"posterior_sample_type\"] = \"Pytree\"\n",
    "eval_args[\"likelihood\"] = \"classification\"\n",
    "\n",
    "ids = [0, 15, 30, 60, 90, 120, 150, 180]#, 210, 240, 270, 300, 330, 345, 360]\n",
    "n_datapoint=500\n",
    "ood_batch_size = 50\n",
    "metrics_lr = []\n",
    "for i, id in enumerate(ids):\n",
    "    _, test_loader = get_rotated_cifar_loaders(id, data_path=\"data\", train_stats=train_stats, download=True, batch_size=ood_batch_size, n_datapoint=n_datapoint)\n",
    "    some_metrics, all_y_prob, all_y_true, all_y_var = evaluate(test_loader, lr_posterior, params, model_fn, eval_args)\n",
    "    if i == 0:\n",
    "        all_y_prob_in = all_y_prob\n",
    "    more_metrics = compute_metrics(\n",
    "            i, id, all_y_prob, test_loader, all_y_prob_in, all_y_var, benchmark=\"R-MNIST\"\n",
    "        )\n",
    "    metrics_lr.append({**some_metrics, **more_metrics})\n",
    "    print(\", \".join([f\"{k}: {v:.4f}\" for k, v in metrics_lr[-1].items()]))\n",
    "    \n"
   ]
  },
  {
   "cell_type": "code",
   "execution_count": 16,
   "metadata": {},
   "outputs": [
    {
     "name": "stdout",
     "output_type": "stream",
     "text": [
      "Files already downloaded and verified\n",
      "R-MNIST with distribution shift intensity 0\n"
     ]
    },
    {
     "name": "stderr",
     "output_type": "stream",
     "text": [
      "/usr/lib64/python3.9/multiprocessing/popen_fork.py:66: RuntimeWarning: os.fork() was called. os.fork() is incompatible with multithreaded code, and JAX is multithreaded, so this will likely lead to a deadlock.\n",
      "  self.pid = os.fork()\n",
      "/usr/lib64/python3.9/multiprocessing/popen_fork.py:66: RuntimeWarning: os.fork() was called. os.fork() is incompatible with multithreaded code, and JAX is multithreaded, so this will likely lead to a deadlock.\n",
      "  self.pid = os.fork()\n",
      "/dtu/p1/hroy/projected-bayes/proj/lib64/python3.9/site-packages/numpy/core/fromnumeric.py:3504: RuntimeWarning: Mean of empty slice.\n",
      "  return _methods._mean(a, axis=axis, dtype=dtype,\n",
      "/dtu/p1/hroy/projected-bayes/proj/lib64/python3.9/site-packages/numpy/core/_methods.py:129: RuntimeWarning: invalid value encountered in scalar divide\n",
      "  ret = ret.dtype.type(ret / rcount)\n",
      "/dtu/p1/hroy/projected-bayes/proj/lib64/python3.9/site-packages/numpy/core/_methods.py:129: RuntimeWarning: invalid value encountered in divide\n",
      "  ret = ret.dtype.type(ret / rcount)\n"
     ]
    },
    {
     "name": "stdout",
     "output_type": "stream",
     "text": [
      "conf: 0.9446, nll: 78.8293, acc: 0.9520, brier: 0.0696, ece: 0.1094, mce: 0.5819\n",
      "Files already downloaded and verified\n",
      "R-MNIST with distribution shift intensity 1\n"
     ]
    },
    {
     "name": "stderr",
     "output_type": "stream",
     "text": [
      "/usr/lib64/python3.9/multiprocessing/popen_fork.py:66: RuntimeWarning: os.fork() was called. os.fork() is incompatible with multithreaded code, and JAX is multithreaded, so this will likely lead to a deadlock.\n",
      "  self.pid = os.fork()\n",
      "/usr/lib64/python3.9/multiprocessing/popen_fork.py:66: RuntimeWarning: os.fork() was called. os.fork() is incompatible with multithreaded code, and JAX is multithreaded, so this will likely lead to a deadlock.\n",
      "  self.pid = os.fork()\n",
      "/dtu/p1/hroy/projected-bayes/proj/lib64/python3.9/site-packages/numpy/core/fromnumeric.py:3504: RuntimeWarning: Mean of empty slice.\n",
      "  return _methods._mean(a, axis=axis, dtype=dtype,\n",
      "/dtu/p1/hroy/projected-bayes/proj/lib64/python3.9/site-packages/numpy/core/_methods.py:129: RuntimeWarning: invalid value encountered in scalar divide\n",
      "  ret = ret.dtype.type(ret / rcount)\n",
      "/dtu/p1/hroy/projected-bayes/proj/lib64/python3.9/site-packages/numpy/core/_methods.py:129: RuntimeWarning: invalid value encountered in divide\n",
      "  ret = ret.dtype.type(ret / rcount)\n"
     ]
    },
    {
     "name": "stdout",
     "output_type": "stream",
     "text": [
      "conf: 0.8127, nll: 3107.2917, acc: 0.1640, brier: 1.4193, ece: 0.6171, mce: 0.9171\n",
      "Files already downloaded and verified\n",
      "R-MNIST with distribution shift intensity 2\n"
     ]
    },
    {
     "name": "stderr",
     "output_type": "stream",
     "text": [
      "/usr/lib64/python3.9/multiprocessing/popen_fork.py:66: RuntimeWarning: os.fork() was called. os.fork() is incompatible with multithreaded code, and JAX is multithreaded, so this will likely lead to a deadlock.\n",
      "  self.pid = os.fork()\n",
      "/usr/lib64/python3.9/multiprocessing/popen_fork.py:66: RuntimeWarning: os.fork() was called. os.fork() is incompatible with multithreaded code, and JAX is multithreaded, so this will likely lead to a deadlock.\n",
      "  self.pid = os.fork()\n",
      "/dtu/p1/hroy/projected-bayes/proj/lib64/python3.9/site-packages/numpy/core/fromnumeric.py:3504: RuntimeWarning: Mean of empty slice.\n",
      "  return _methods._mean(a, axis=axis, dtype=dtype,\n",
      "/dtu/p1/hroy/projected-bayes/proj/lib64/python3.9/site-packages/numpy/core/_methods.py:129: RuntimeWarning: invalid value encountered in scalar divide\n",
      "  ret = ret.dtype.type(ret / rcount)\n",
      "/dtu/p1/hroy/projected-bayes/proj/lib64/python3.9/site-packages/numpy/core/_methods.py:129: RuntimeWarning: invalid value encountered in divide\n",
      "  ret = ret.dtype.type(ret / rcount)\n"
     ]
    },
    {
     "name": "stdout",
     "output_type": "stream",
     "text": [
      "conf: 0.9186, nll: 4818.6064, acc: 0.0920, brier: 1.6989, ece: 0.7605, mce: 0.9337\n",
      "Files already downloaded and verified\n",
      "R-MNIST with distribution shift intensity 3\n"
     ]
    },
    {
     "name": "stderr",
     "output_type": "stream",
     "text": [
      "/usr/lib64/python3.9/multiprocessing/popen_fork.py:66: RuntimeWarning: os.fork() was called. os.fork() is incompatible with multithreaded code, and JAX is multithreaded, so this will likely lead to a deadlock.\n",
      "  self.pid = os.fork()\n",
      "/usr/lib64/python3.9/multiprocessing/popen_fork.py:66: RuntimeWarning: os.fork() was called. os.fork() is incompatible with multithreaded code, and JAX is multithreaded, so this will likely lead to a deadlock.\n",
      "  self.pid = os.fork()\n",
      "/dtu/p1/hroy/projected-bayes/proj/lib64/python3.9/site-packages/numpy/core/fromnumeric.py:3504: RuntimeWarning: Mean of empty slice.\n",
      "  return _methods._mean(a, axis=axis, dtype=dtype,\n",
      "/dtu/p1/hroy/projected-bayes/proj/lib64/python3.9/site-packages/numpy/core/_methods.py:129: RuntimeWarning: invalid value encountered in scalar divide\n",
      "  ret = ret.dtype.type(ret / rcount)\n",
      "/dtu/p1/hroy/projected-bayes/proj/lib64/python3.9/site-packages/numpy/core/_methods.py:129: RuntimeWarning: invalid value encountered in divide\n",
      "  ret = ret.dtype.type(ret / rcount)\n"
     ]
    },
    {
     "name": "stdout",
     "output_type": "stream",
     "text": [
      "conf: 0.9214, nll: 5117.1377, acc: 0.0860, brier: 1.6977, ece: 0.7889, mce: 0.9350\n",
      "Files already downloaded and verified\n",
      "R-MNIST with distribution shift intensity 4\n"
     ]
    },
    {
     "name": "stderr",
     "output_type": "stream",
     "text": [
      "/usr/lib64/python3.9/multiprocessing/popen_fork.py:66: RuntimeWarning: os.fork() was called. os.fork() is incompatible with multithreaded code, and JAX is multithreaded, so this will likely lead to a deadlock.\n",
      "  self.pid = os.fork()\n",
      "/usr/lib64/python3.9/multiprocessing/popen_fork.py:66: RuntimeWarning: os.fork() was called. os.fork() is incompatible with multithreaded code, and JAX is multithreaded, so this will likely lead to a deadlock.\n",
      "  self.pid = os.fork()\n",
      "/dtu/p1/hroy/projected-bayes/proj/lib64/python3.9/site-packages/numpy/core/fromnumeric.py:3504: RuntimeWarning: Mean of empty slice.\n",
      "  return _methods._mean(a, axis=axis, dtype=dtype,\n",
      "/dtu/p1/hroy/projected-bayes/proj/lib64/python3.9/site-packages/numpy/core/_methods.py:129: RuntimeWarning: invalid value encountered in scalar divide\n",
      "  ret = ret.dtype.type(ret / rcount)\n",
      "/dtu/p1/hroy/projected-bayes/proj/lib64/python3.9/site-packages/numpy/core/_methods.py:129: RuntimeWarning: invalid value encountered in divide\n",
      "  ret = ret.dtype.type(ret / rcount)\n"
     ]
    },
    {
     "name": "stdout",
     "output_type": "stream",
     "text": [
      "conf: 0.8186, nll: 4141.9688, acc: 0.0880, brier: 1.5686, ece: 0.7198, mce: 0.9850\n",
      "Files already downloaded and verified\n",
      "R-MNIST with distribution shift intensity 5\n"
     ]
    },
    {
     "name": "stderr",
     "output_type": "stream",
     "text": [
      "/usr/lib64/python3.9/multiprocessing/popen_fork.py:66: RuntimeWarning: os.fork() was called. os.fork() is incompatible with multithreaded code, and JAX is multithreaded, so this will likely lead to a deadlock.\n",
      "  self.pid = os.fork()\n",
      "/usr/lib64/python3.9/multiprocessing/popen_fork.py:66: RuntimeWarning: os.fork() was called. os.fork() is incompatible with multithreaded code, and JAX is multithreaded, so this will likely lead to a deadlock.\n",
      "  self.pid = os.fork()\n",
      "/dtu/p1/hroy/projected-bayes/proj/lib64/python3.9/site-packages/numpy/core/fromnumeric.py:3504: RuntimeWarning: Mean of empty slice.\n",
      "  return _methods._mean(a, axis=axis, dtype=dtype,\n",
      "/dtu/p1/hroy/projected-bayes/proj/lib64/python3.9/site-packages/numpy/core/_methods.py:129: RuntimeWarning: invalid value encountered in scalar divide\n",
      "  ret = ret.dtype.type(ret / rcount)\n",
      "/dtu/p1/hroy/projected-bayes/proj/lib64/python3.9/site-packages/numpy/core/_methods.py:129: RuntimeWarning: invalid value encountered in divide\n",
      "  ret = ret.dtype.type(ret / rcount)\n"
     ]
    },
    {
     "name": "stdout",
     "output_type": "stream",
     "text": [
      "conf: 0.9301, nll: 5018.7827, acc: 0.0980, brier: 1.7003, ece: 0.7613, mce: 0.9545\n",
      "Files already downloaded and verified\n",
      "R-MNIST with distribution shift intensity 6\n"
     ]
    },
    {
     "name": "stderr",
     "output_type": "stream",
     "text": [
      "/usr/lib64/python3.9/multiprocessing/popen_fork.py:66: RuntimeWarning: os.fork() was called. os.fork() is incompatible with multithreaded code, and JAX is multithreaded, so this will likely lead to a deadlock.\n",
      "  self.pid = os.fork()\n",
      "/usr/lib64/python3.9/multiprocessing/popen_fork.py:66: RuntimeWarning: os.fork() was called. os.fork() is incompatible with multithreaded code, and JAX is multithreaded, so this will likely lead to a deadlock.\n",
      "  self.pid = os.fork()\n",
      "/dtu/p1/hroy/projected-bayes/proj/lib64/python3.9/site-packages/numpy/core/fromnumeric.py:3504: RuntimeWarning: Mean of empty slice.\n",
      "  return _methods._mean(a, axis=axis, dtype=dtype,\n",
      "/dtu/p1/hroy/projected-bayes/proj/lib64/python3.9/site-packages/numpy/core/_methods.py:129: RuntimeWarning: invalid value encountered in scalar divide\n",
      "  ret = ret.dtype.type(ret / rcount)\n",
      "/dtu/p1/hroy/projected-bayes/proj/lib64/python3.9/site-packages/numpy/core/_methods.py:129: RuntimeWarning: invalid value encountered in divide\n",
      "  ret = ret.dtype.type(ret / rcount)\n"
     ]
    },
    {
     "name": "stdout",
     "output_type": "stream",
     "text": [
      "conf: 0.9067, nll: 4760.2051, acc: 0.0940, brier: 1.6717, ece: 0.7705, mce: 0.9654\n",
      "Files already downloaded and verified\n",
      "R-MNIST with distribution shift intensity 7\n"
     ]
    },
    {
     "name": "stderr",
     "output_type": "stream",
     "text": [
      "/usr/lib64/python3.9/multiprocessing/popen_fork.py:66: RuntimeWarning: os.fork() was called. os.fork() is incompatible with multithreaded code, and JAX is multithreaded, so this will likely lead to a deadlock.\n",
      "  self.pid = os.fork()\n",
      "/usr/lib64/python3.9/multiprocessing/popen_fork.py:66: RuntimeWarning: os.fork() was called. os.fork() is incompatible with multithreaded code, and JAX is multithreaded, so this will likely lead to a deadlock.\n",
      "  self.pid = os.fork()\n"
     ]
    },
    {
     "name": "stdout",
     "output_type": "stream",
     "text": [
      "conf: 0.8158, nll: 957.2025, acc: 0.5760, brier: 0.6675, ece: 0.3031, mce: 0.7687\n"
     ]
    },
    {
     "name": "stderr",
     "output_type": "stream",
     "text": [
      "/dtu/p1/hroy/projected-bayes/proj/lib64/python3.9/site-packages/numpy/core/fromnumeric.py:3504: RuntimeWarning: Mean of empty slice.\n",
      "  return _methods._mean(a, axis=axis, dtype=dtype,\n",
      "/dtu/p1/hroy/projected-bayes/proj/lib64/python3.9/site-packages/numpy/core/_methods.py:129: RuntimeWarning: invalid value encountered in scalar divide\n",
      "  ret = ret.dtype.type(ret / rcount)\n",
      "/dtu/p1/hroy/projected-bayes/proj/lib64/python3.9/site-packages/numpy/core/_methods.py:129: RuntimeWarning: invalid value encountered in divide\n",
      "  ret = ret.dtype.type(ret / rcount)\n"
     ]
    }
   ],
   "source": [
    "eval_args = {}\n",
    "eval_args[\"linearised_laplace\"] = False\n",
    "eval_args[\"posterior_sample_type\"] = \"Pytree\"\n",
    "eval_args[\"likelihood\"] = \"classification\"\n",
    "\n",
    "ids = [0, 15, 30, 60, 90, 120, 150, 180]#, 210, 240, 270, 300, 330, 345, 360]\n",
    "n_datapoint=500\n",
    "ood_batch_size = 50\n",
    "metrics_map = []\n",
    "for i, id in enumerate(ids):\n",
    "    _, test_loader = get_rotated_cifar_loaders(id, data_path=\"data\", train_stats=train_stats, download=True, batch_size=ood_batch_size, n_datapoint=n_datapoint)\n",
    "    some_metrics, all_y_prob, all_y_true, all_y_var = evaluate_map(test_loader, params, model_fn, eval_args)\n",
    "    if i == 0:\n",
    "        all_y_prob_in = all_y_prob\n",
    "    more_metrics = compute_metrics(\n",
    "            i, id, all_y_prob, test_loader, all_y_prob_in, all_y_var, benchmark=\"R-MNIST\"\n",
    "        )\n",
    "    metrics_map.append({**some_metrics, **more_metrics})\n",
    "    print(\", \".join([f\"{k}: {v:.4f}\" for k, v in metrics_map[-1].items()]))\n",
    "    \n"
   ]
  },
  {
   "cell_type": "code",
   "execution_count": 17,
   "metadata": {},
   "outputs": [],
   "source": [
    "import pandas as pd\n",
    "metrics_dict = ['conf', 'nll', 'acc', 'brier', 'ece', 'mce']\n",
    "method_list = [\"Projection Laplace\", \"MAP\"]\n",
    "method_dict = {\"Projection Laplace\":metrics_lr, \"MAP\":metrics_map}\n",
    "df_data = {metric: [\"{:.3f}\".format(method_dict[dic][0][metric]) for dic in method_dict] for metric in metrics_dict}\n",
    "# df_data = {k: [\"{:.3f}\".format(dic[metric+'_mean']) + u\"\\u00B1\" + \"{:.3f}\".format(dic[metric+'_std'])  for dic in method_dict[k][1:] for metric in metrics_dict] for k in method_dict}\n",
    "\n",
    "df = pd.DataFrame.from_dict(df_data, orient='index', columns=method_list)\n",
    "df = df.T\n"
   ]
  },
  {
   "cell_type": "code",
   "execution_count": 19,
   "metadata": {},
   "outputs": [
    {
     "data": {
      "text/html": [
       "<div>\n",
       "<style scoped>\n",
       "    .dataframe tbody tr th:only-of-type {\n",
       "        vertical-align: middle;\n",
       "    }\n",
       "\n",
       "    .dataframe tbody tr th {\n",
       "        vertical-align: top;\n",
       "    }\n",
       "\n",
       "    .dataframe thead th {\n",
       "        text-align: right;\n",
       "    }\n",
       "</style>\n",
       "<table border=\"1\" class=\"dataframe\">\n",
       "  <thead>\n",
       "    <tr style=\"text-align: right;\">\n",
       "      <th></th>\n",
       "      <th>conf</th>\n",
       "      <th>nll</th>\n",
       "      <th>acc</th>\n",
       "      <th>brier</th>\n",
       "      <th>ece</th>\n",
       "      <th>mce</th>\n",
       "    </tr>\n",
       "  </thead>\n",
       "  <tbody>\n",
       "    <tr>\n",
       "      <th>Projection Laplace</th>\n",
       "      <td>0.910</td>\n",
       "      <td>442.953</td>\n",
       "      <td>0.796</td>\n",
       "      <td>0.337</td>\n",
       "      <td>0.266</td>\n",
       "      <td>0.816</td>\n",
       "    </tr>\n",
       "    <tr>\n",
       "      <th>MAP</th>\n",
       "      <td>0.945</td>\n",
       "      <td>78.829</td>\n",
       "      <td>0.952</td>\n",
       "      <td>0.070</td>\n",
       "      <td>0.109</td>\n",
       "      <td>0.582</td>\n",
       "    </tr>\n",
       "  </tbody>\n",
       "</table>\n",
       "</div>"
      ],
      "text/plain": [
       "                     conf      nll    acc  brier    ece    mce\n",
       "Projection Laplace  0.910  442.953  0.796  0.337  0.266  0.816\n",
       "MAP                 0.945   78.829  0.952  0.070  0.109  0.582"
      ]
     },
     "execution_count": 19,
     "metadata": {},
     "output_type": "execute_result"
    }
   ],
   "source": [
    "df"
   ]
  },
  {
   "cell_type": "code",
   "execution_count": 18,
   "metadata": {},
   "outputs": [
    {
     "name": "stdout",
     "output_type": "stream",
     "text": [
      "\\begin{tabular}{lllllll}\n",
      "\\toprule\n",
      " & conf & nll & acc & brier & ece & mce \\\\\n",
      "\\midrule\n",
      "Laplace Diffusion & 0.958±0.005 & 170.385±12.506 & 0.911±0.004 & 0.144±0.008 & 0.237±0.033 & 0.852±0.039 \\\\\n",
      "Sampled Laplace & 0.845±0.005 & 438.840±123.643 & 0.742±0.053 & 0.385±0.084 & 0.205±0.045 & 0.799±0.066 \\\\\n",
      "Linearised Laplace & 0.954±0.007 & 285.098±31.782 & 0.871±0.012 & 0.209±0.019 & 0.315±0.036 & 0.799±0.032 \\\\\n",
      "MAP & 0.962±0.004 & 152.471±23.029 & 0.918±0.009 & 0.134±0.015 & 0.272±0.014 & 0.910±0.032 \\\\\n",
      "\\bottomrule\n",
      "\\end{tabular}\n",
      "\n"
     ]
    }
   ],
   "source": [
    "print(df.to_latex(index=True,\n",
    "                  formatters={\"name\": str.upper},\n",
    "                  float_format=\"{:.3f}\".format,\n",
    "))  "
   ]
  },
  {
   "cell_type": "markdown",
   "metadata": {},
   "source": [
    "| Laplace Diffusion |  0.958±0.005 |  170.385±12.506 |  0.911±0.004 |  0.144±0.008 |  0.237±0.033 |  0.852±0.039 | \n",
    "| Sampled Laplace |  0.845±0.005 |  438.840±123.643 |  0.742±0.053 |  0.385±0.084 |  0.205±0.045 |  0.799±0.066 | \n",
    "| Linearised Laplace |  0.954±0.007 |  285.098±31.782 |  0.871±0.012 |  0.209±0.019 |  0.315±0.036 |  0.799±0.032 | \n",
    "| MAP |  0.962±0.004 |  152.471±23.029 |  0.918±0.009 |  0.134±0.015 |  0.272±0.014 |  0.910±0.032 | \n"
   ]
  },
  {
   "cell_type": "markdown",
   "metadata": {},
   "source": [
    "### OOD"
   ]
  },
  {
   "cell_type": "code",
   "execution_count": 19,
   "metadata": {},
   "outputs": [
    {
     "name": "stdout",
     "output_type": "stream",
     "text": [
      "Files already downloaded and verified\n"
     ]
    },
    {
     "name": "stderr",
     "output_type": "stream",
     "text": [
      "/dtu/p1/hroy/geometric-laplace/src/data/torch_datasets.py:158: UserWarning: To copy construct from a tensor, it is recommended to use sourceTensor.clone().detach() or sourceTensor.clone().detach().requires_grad_(True), rather than torch.tensor(sourceTensor).\n",
      "  self.targets = F.one_hot(torch.tensor(self.dataset.targets), len(cls)).numpy()\n"
     ]
    },
    {
     "name": "stdout",
     "output_type": "stream",
     "text": [
      "CIFAR-10-OOD - dataset: CIFAR-10\n",
      "Files already downloaded and verified\n",
      "CIFAR-10-OOD - dataset: CIFAR-10\n",
      "Files already downloaded and verified\n",
      "CIFAR-10-OOD - dataset: CIFAR-10\n",
      "conf_mean: 0.9584, nll_mean: 170.3846, acc_mean: 0.9107, conf_std: 0.0046, nll_std: 12.5059, acc_std: 0.0041\n",
      "Files already downloaded and verified\n",
      "CIFAR-10-OOD - dataset: CIFAR-100\n",
      "Files already downloaded and verified\n",
      "CIFAR-10-OOD - dataset: CIFAR-100\n",
      "Files already downloaded and verified\n",
      "CIFAR-10-OOD - dataset: CIFAR-100\n",
      "conf_mean: 0.7910, nll_mean: 396.0765, acc_mean: 0.1233, conf_std: 0.0013, nll_std: 9.8828, acc_std: 0.0105, auroc_mean: 0.8559, fpr95_mean: 0.7127, auroc_std: 0.0017, fpr95_std: 0.0050\n",
      "Using downloaded and verified file: data/test_32x32.mat\n",
      "CIFAR-10-OOD - dataset: SVHN\n",
      "Using downloaded and verified file: data/test_32x32.mat\n",
      "CIFAR-10-OOD - dataset: SVHN\n",
      "Using downloaded and verified file: data/test_32x32.mat\n",
      "CIFAR-10-OOD - dataset: SVHN\n",
      "conf_mean: 0.7928, nll_mean: 3754.8203, acc_mean: 0.0793, conf_std: 0.0193, nll_std: 60.9137, acc_std: 0.0179, auroc_mean: 0.8516, fpr95_mean: 0.7127, auroc_std: 0.0131, fpr95_std: 0.0390\n"
     ]
    }
   ],
   "source": [
    "eval_args = {}\n",
    "eval_args[\"linearised_laplace\"] = False\n",
    "eval_args[\"posterior_sample_type\"] = \"Pytree\"\n",
    "eval_args[\"likelihood\"] = \"classification\"\n",
    "\n",
    "ids = [\"CIFAR-10\", \"CIFAR-100\", \"SVHN\"]\n",
    "n_datapoint=500\n",
    "ood_batch_size = 50\n",
    "metrics_lr = []\n",
    "for i, id in enumerate(ids):\n",
    "    some_metrics_all = defaultdict(list)\n",
    "    more_metrics_all = defaultdict(list)\n",
    "    for seed, (params, batch_stats, lr_posterior) in enumerate(zip(param_list, batch_stats_list, lr_posterior_list)):   \n",
    "        model_fn = lambda p, x: model.apply({'params': p, 'batch_stats': batch_stats},\n",
    "                                x,\n",
    "                                train=False,\n",
    "                                mutable=False)    \n",
    "        _, test_loader = get_cifar10_ood_loaders(id, data_path=\"data\", download=True, batch_size=ood_batch_size, n_datapoint=n_datapoint)\n",
    "        some_metrics, all_y_prob, all_y_true, all_y_var = evaluate(test_loader, lr_posterior, params, model_fn, eval_args)\n",
    "        if i == 0:\n",
    "            all_y_prob_in = all_y_prob\n",
    "        more_metrics = compute_metrics(\n",
    "                i, id, all_y_prob, test_loader, all_y_prob_in, all_y_var, benchmark=\"CIFAR-10-OOD\"\n",
    "            )\n",
    "        for k, v in some_metrics.items():\n",
    "            some_metrics_all[k].append(v)\n",
    "        for k, v in more_metrics.items():   \n",
    "            more_metrics_all[k].append(v)\n",
    "    seed_some_metric =  {**{k+\"_mean\": jnp.mean(jnp.array(v)).item() for k, v in some_metrics_all.items()}, **{k+\"_std\": jnp.std(jnp.array(v)).item() for k, v in some_metrics_all.items()}}\n",
    "    seed_more_metric =  {**{k+\"_mean\": jnp.mean(jnp.array(v)).item() for k, v in more_metrics_all.items()}, **{k+\"_std\": jnp.std(jnp.array(v)).item() for k, v in more_metrics_all.items()}}\n",
    "    metrics_lr.append({**seed_some_metric, **seed_more_metric})\n",
    "    print(\", \".join([f\"{k}: {v:.4f}\" for k, v in metrics_lr[-1].items()]))\n",
    "    \n"
   ]
  },
  {
   "cell_type": "code",
   "execution_count": 20,
   "metadata": {},
   "outputs": [
    {
     "name": "stdout",
     "output_type": "stream",
     "text": [
      "Files already downloaded and verified\n"
     ]
    },
    {
     "name": "stderr",
     "output_type": "stream",
     "text": [
      "/dtu/p1/hroy/geometric-laplace/src/data/torch_datasets.py:158: UserWarning: To copy construct from a tensor, it is recommended to use sourceTensor.clone().detach() or sourceTensor.clone().detach().requires_grad_(True), rather than torch.tensor(sourceTensor).\n",
      "  self.targets = F.one_hot(torch.tensor(self.dataset.targets), len(cls)).numpy()\n"
     ]
    },
    {
     "name": "stdout",
     "output_type": "stream",
     "text": [
      "CIFAR-10-OOD - dataset: CIFAR-10\n",
      "Files already downloaded and verified\n",
      "CIFAR-10-OOD - dataset: CIFAR-10\n",
      "Files already downloaded and verified\n",
      "CIFAR-10-OOD - dataset: CIFAR-10\n",
      "conf_mean: 0.8453, nll_mean: 438.8398, acc_mean: 0.7420, conf_std: 0.0048, nll_std: 123.6431, acc_std: 0.0534\n",
      "Files already downloaded and verified\n",
      "CIFAR-10-OOD - dataset: CIFAR-100\n",
      "Files already downloaded and verified\n",
      "CIFAR-10-OOD - dataset: CIFAR-100\n",
      "Files already downloaded and verified\n",
      "CIFAR-10-OOD - dataset: CIFAR-100\n",
      "conf_mean: 0.7055, nll_mean: 311.3177, acc_mean: 0.1347, conf_std: 0.0370, nll_std: 39.9136, acc_std: 0.0401, auroc_mean: 0.7298, fpr95_mean: 0.8980, auroc_std: 0.0390, fpr95_std: 0.0261\n",
      "Using downloaded and verified file: data/test_32x32.mat\n",
      "CIFAR-10-OOD - dataset: SVHN\n",
      "Using downloaded and verified file: data/test_32x32.mat\n",
      "CIFAR-10-OOD - dataset: SVHN\n",
      "Using downloaded and verified file: data/test_32x32.mat\n",
      "CIFAR-10-OOD - dataset: SVHN\n",
      "conf_mean: 0.7566, nll_mean: 3243.4170, acc_mean: 0.1007, conf_std: 0.0534, nll_std: 519.1366, acc_std: 0.0066, auroc_mean: 0.6672, fpr95_mean: 0.9280, auroc_std: 0.0678, fpr95_std: 0.0333\n"
     ]
    }
   ],
   "source": [
    "eval_args = {}\n",
    "eval_args[\"linearised_laplace\"] = False\n",
    "eval_args[\"posterior_sample_type\"] = \"Pytree\"\n",
    "eval_args[\"likelihood\"] = \"classification\"\n",
    "\n",
    "ids = [\"CIFAR-10\", \"CIFAR-100\", \"SVHN\"]\n",
    "n_datapoint=500\n",
    "ood_batch_size = 50\n",
    "metrics_posterior = []\n",
    "for i, id in enumerate(ids):\n",
    "    some_metrics_all = defaultdict(list)\n",
    "    more_metrics_all = defaultdict(list)\n",
    "    for seed, (params, batch_stats, posterior) in enumerate(zip(param_list, batch_stats_list, posterior_list)):    \n",
    "        model_fn = lambda p, x: model.apply({'params': p, 'batch_stats': batch_stats},\n",
    "                                        x,\n",
    "                                        train=False,\n",
    "                                        mutable=False)    \n",
    "        _, test_loader = get_cifar10_ood_loaders(id, data_path=\"data\", download=True, batch_size=ood_batch_size, n_datapoint=n_datapoint)\n",
    "        some_metrics, all_y_prob, all_y_true, all_y_var = evaluate(test_loader, posterior, params, model_fn, eval_args)\n",
    "        if i == 0:\n",
    "            all_y_prob_in = all_y_prob\n",
    "        more_metrics = compute_metrics(\n",
    "                i, id, all_y_prob, test_loader, all_y_prob_in, all_y_var, benchmark=\"CIFAR-10-OOD\"\n",
    "            )\n",
    "        for k, v in some_metrics.items():\n",
    "            some_metrics_all[k].append(v)\n",
    "        for k, v in more_metrics.items():   \n",
    "            more_metrics_all[k].append(v)\n",
    "    seed_some_metric =  {**{k+\"_mean\": jnp.mean(jnp.array(v)).item() for k, v in some_metrics_all.items()}, **{k+\"_std\": jnp.std(jnp.array(v)).item() for k, v in some_metrics_all.items()}}\n",
    "    seed_more_metric =  {**{k+\"_mean\": jnp.mean(jnp.array(v)).item() for k, v in more_metrics_all.items()}, **{k+\"_std\": jnp.std(jnp.array(v)).item() for k, v in more_metrics_all.items()}}\n",
    "    metrics_posterior.append({**seed_some_metric, **seed_more_metric})\n",
    "    print(\", \".join([f\"{k}: {v:.4f}\" for k, v in metrics_posterior[-1].items()]))\n",
    "    \n"
   ]
  },
  {
   "cell_type": "code",
   "execution_count": 21,
   "metadata": {},
   "outputs": [
    {
     "name": "stdout",
     "output_type": "stream",
     "text": [
      "Files already downloaded and verified\n"
     ]
    },
    {
     "name": "stderr",
     "output_type": "stream",
     "text": [
      "/dtu/p1/hroy/geometric-laplace/src/data/torch_datasets.py:158: UserWarning: To copy construct from a tensor, it is recommended to use sourceTensor.clone().detach() or sourceTensor.clone().detach().requires_grad_(True), rather than torch.tensor(sourceTensor).\n",
      "  self.targets = F.one_hot(torch.tensor(self.dataset.targets), len(cls)).numpy()\n"
     ]
    },
    {
     "name": "stdout",
     "output_type": "stream",
     "text": [
      "CIFAR-10-OOD - dataset: CIFAR-10\n",
      "Files already downloaded and verified\n",
      "CIFAR-10-OOD - dataset: CIFAR-10\n",
      "Files already downloaded and verified\n",
      "CIFAR-10-OOD - dataset: CIFAR-10\n",
      "conf_mean: 0.9537, nll_mean: 285.0979, acc_mean: 0.8713, conf_std: 0.0069, nll_std: 31.7821, acc_std: 0.0118\n",
      "Files already downloaded and verified\n",
      "CIFAR-10-OOD - dataset: CIFAR-100\n",
      "Files already downloaded and verified\n",
      "CIFAR-10-OOD - dataset: CIFAR-100\n",
      "Files already downloaded and verified\n",
      "CIFAR-10-OOD - dataset: CIFAR-100\n",
      "conf_mean: 0.8184, nll_mean: 474.2798, acc_mean: 0.1113, conf_std: 0.0044, nll_std: 23.0179, acc_std: 0.0105, auroc_mean: 0.8389, fpr95_mean: 0.7473, auroc_std: 0.0051, fpr95_std: 0.0172\n",
      "Using downloaded and verified file: data/test_32x32.mat\n",
      "CIFAR-10-OOD - dataset: SVHN\n",
      "Using downloaded and verified file: data/test_32x32.mat\n",
      "CIFAR-10-OOD - dataset: SVHN\n",
      "Using downloaded and verified file: data/test_32x32.mat\n",
      "CIFAR-10-OOD - dataset: SVHN\n",
      "conf_mean: 0.8054, nll_mean: 4194.7354, acc_mean: 0.0880, conf_std: 0.0276, nll_std: 361.6164, acc_std: 0.0102, auroc_mean: 0.8534, fpr95_mean: 0.7187, auroc_std: 0.0199, fpr95_std: 0.0405\n"
     ]
    }
   ],
   "source": [
    "eval_args = {}\n",
    "eval_args[\"linearised_laplace\"] = True\n",
    "eval_args[\"posterior_sample_type\"] = \"Pytree\"\n",
    "eval_args[\"likelihood\"] = \"classification\"\n",
    "\n",
    "ids = [\"CIFAR-10\", \"CIFAR-100\", \"SVHN\"]\n",
    "n_datapoint=500\n",
    "ood_batch_size = 50\n",
    "metrics_lienarised = []\n",
    "for i, id in enumerate(ids):\n",
    "    some_metrics_all = defaultdict(list)\n",
    "    more_metrics_all = defaultdict(list)\n",
    "    for seed, (params, batch_stats, posterior) in enumerate(zip(param_list, batch_stats_list, posterior_list)):    \n",
    "        model_fn = lambda p, x: model.apply({'params': p, 'batch_stats': batch_stats},\n",
    "                                        x,\n",
    "                                        train=False,\n",
    "                                        mutable=False)    \n",
    "        _, test_loader = get_cifar10_ood_loaders(id, data_path=\"data\", download=True, batch_size=ood_batch_size, n_datapoint=n_datapoint)\n",
    "        some_metrics, all_y_prob, all_y_true, all_y_var = evaluate(test_loader, posterior, params, model_fn, eval_args)\n",
    "        if i == 0:\n",
    "            all_y_prob_in = all_y_prob\n",
    "        more_metrics = compute_metrics(\n",
    "                i, id, all_y_prob, test_loader, all_y_prob_in, all_y_var, benchmark=\"CIFAR-10-OOD\"\n",
    "            )\n",
    "        for k, v in some_metrics.items():\n",
    "            some_metrics_all[k].append(v)\n",
    "        for k, v in more_metrics.items():   \n",
    "            more_metrics_all[k].append(v)\n",
    "    seed_some_metric =  {**{k+\"_mean\": jnp.mean(jnp.array(v)).item() for k, v in some_metrics_all.items()}, **{k+\"_std\": jnp.std(jnp.array(v)).item() for k, v in some_metrics_all.items()}}\n",
    "    seed_more_metric =  {**{k+\"_mean\": jnp.mean(jnp.array(v)).item() for k, v in more_metrics_all.items()}, **{k+\"_std\": jnp.std(jnp.array(v)).item() for k, v in more_metrics_all.items()}}\n",
    "    metrics_lienarised.append({**seed_some_metric, **seed_more_metric})\n",
    "    print(\", \".join([f\"{k}: {v:.4f}\" for k, v in metrics_lienarised[-1].items()]))\n",
    "    \n"
   ]
  },
  {
   "cell_type": "code",
   "execution_count": 22,
   "metadata": {},
   "outputs": [
    {
     "name": "stdout",
     "output_type": "stream",
     "text": [
      "Files already downloaded and verified\n"
     ]
    },
    {
     "name": "stderr",
     "output_type": "stream",
     "text": [
      "/dtu/p1/hroy/geometric-laplace/src/data/torch_datasets.py:158: UserWarning: To copy construct from a tensor, it is recommended to use sourceTensor.clone().detach() or sourceTensor.clone().detach().requires_grad_(True), rather than torch.tensor(sourceTensor).\n",
      "  self.targets = F.one_hot(torch.tensor(self.dataset.targets), len(cls)).numpy()\n"
     ]
    },
    {
     "name": "stdout",
     "output_type": "stream",
     "text": [
      "CIFAR-10-OOD - dataset: CIFAR-10\n",
      "Files already downloaded and verified\n",
      "CIFAR-10-OOD - dataset: CIFAR-10\n",
      "Files already downloaded and verified\n",
      "CIFAR-10-OOD - dataset: CIFAR-10\n",
      "conf_mean: 0.9616, nll_mean: 152.4712, acc_mean: 0.9180, conf_std: 0.0037, nll_std: 23.0288, acc_std: 0.0091\n",
      "Files already downloaded and verified\n",
      "CIFAR-10-OOD - dataset: CIFAR-100\n",
      "Files already downloaded and verified\n",
      "CIFAR-10-OOD - dataset: CIFAR-100\n",
      "Files already downloaded and verified\n",
      "CIFAR-10-OOD - dataset: CIFAR-100\n",
      "conf_mean: 0.8033, nll_mean: 407.4996, acc_mean: 0.1227, conf_std: 0.0099, nll_std: 15.6155, acc_std: 0.0050, auroc_mean: 0.8766, fpr95_mean: 0.6807, auroc_std: 0.0048, fpr95_std: 0.0229\n",
      "Using downloaded and verified file: data/test_32x32.mat\n",
      "CIFAR-10-OOD - dataset: SVHN\n",
      "Using downloaded and verified file: data/test_32x32.mat\n",
      "CIFAR-10-OOD - dataset: SVHN\n",
      "Using downloaded and verified file: data/test_32x32.mat\n",
      "CIFAR-10-OOD - dataset: SVHN\n",
      "conf_mean: 0.7905, nll_mean: 3739.2761, acc_mean: 0.0840, conf_std: 0.0282, nll_std: 72.1066, acc_std: 0.0134, auroc_mean: 0.8838, fpr95_mean: 0.6700, auroc_std: 0.0134, fpr95_std: 0.0526\n"
     ]
    }
   ],
   "source": [
    "eval_args = {}\n",
    "eval_args[\"linearised_laplace\"] = False\n",
    "eval_args[\"posterior_sample_type\"] = \"Pytree\"\n",
    "eval_args[\"likelihood\"] = \"classification\"\n",
    "\n",
    "ids = [\"CIFAR-10\", \"CIFAR-100\", \"SVHN\"]\n",
    "n_datapoint=500\n",
    "ood_batch_size = 50\n",
    "metrics_map = []\n",
    "for i, id in enumerate(ids):\n",
    "    some_metrics_all = defaultdict(list)\n",
    "    more_metrics_all = defaultdict(list)\n",
    "    for seed, (params, batch_stats) in enumerate(zip(param_list, batch_stats_list)):    \n",
    "        model_fn = lambda p, x: model.apply({'params': p, 'batch_stats': batch_stats},\n",
    "                                        x,\n",
    "                                        train=False,\n",
    "                                        mutable=False)    \n",
    "        # params = params_dict['params']\n",
    "        _, test_loader = get_cifar10_ood_loaders(id, data_path=\"data\", download=True, batch_size=ood_batch_size, n_datapoint=n_datapoint)\n",
    "        some_metrics, all_y_prob, all_y_true, all_y_var = evaluate_map(test_loader, params, model_fn, eval_args)\n",
    "        if i == 0:\n",
    "            all_y_prob_in = all_y_prob\n",
    "        more_metrics = compute_metrics(\n",
    "                i, id, all_y_prob, test_loader, all_y_prob_in, all_y_var, benchmark=\"CIFAR-10-OOD\"\n",
    "            )\n",
    "        for k, v in some_metrics.items():\n",
    "            some_metrics_all[k].append(v)\n",
    "        for k, v in more_metrics.items():   \n",
    "            more_metrics_all[k].append(v)\n",
    "    seed_some_metric =  {**{k+\"_mean\": jnp.mean(jnp.array(v)).item() for k, v in some_metrics_all.items()}, **{k+\"_std\": jnp.std(jnp.array(v)).item() for k, v in some_metrics_all.items()}}\n",
    "    seed_more_metric =  {**{k+\"_mean\": jnp.mean(jnp.array(v)).item() for k, v in more_metrics_all.items()}, **{k+\"_std\": jnp.std(jnp.array(v)).item() for k, v in more_metrics_all.items()}}\n",
    "    metrics_map.append({**seed_some_metric, **seed_more_metric})\n",
    "    print(\", \".join([f\"{k}: {v:.4f}\" for k, v in metrics_map[-1].items()]))\n",
    "    \n"
   ]
  },
  {
   "cell_type": "code",
   "execution_count": 26,
   "metadata": {},
   "outputs": [],
   "source": [
    "import pandas as pd\n",
    "metrics_dict = ['conf', 'auroc']\n",
    "method_list = [\"Laplace Diffusion\", \"Laplace Approximation\", \"Linearised Laplace\", \"MAP\"]\n",
    "method_dict = {\"Laplace Diffusion\":metrics_lr, \"Laplace Approximation\": metrics_posterior,\"Linearised Laplace\":metrics_lienarised,  \"MAP\":metrics_map}\n",
    "mux = pd.MultiIndex.from_product([ids[1:], metrics_dict])\n",
    "# df_data = {k: [dic[metric+'_mean'] for metric in metrics_dict for dic in method_dict[k][1:]] for k in method_dict}\n",
    "df_data = {k: [\"{:.3f}\".format(dic[metric+'_mean']) + u\"\\u00B1\" + \"{:.3f}\".format(dic[metric+'_std'])  for dic in method_dict[k][1:] for metric in metrics_dict] for k in method_dict}\n",
    "\n",
    "df = pd.DataFrame.from_dict(df_data, orient='index',\n",
    "                       columns=mux)\n"
   ]
  },
  {
   "cell_type": "code",
   "execution_count": 27,
   "metadata": {},
   "outputs": [
    {
     "data": {
      "text/html": [
       "<div>\n",
       "<style scoped>\n",
       "    .dataframe tbody tr th:only-of-type {\n",
       "        vertical-align: middle;\n",
       "    }\n",
       "\n",
       "    .dataframe tbody tr th {\n",
       "        vertical-align: top;\n",
       "    }\n",
       "\n",
       "    .dataframe thead tr th {\n",
       "        text-align: left;\n",
       "    }\n",
       "</style>\n",
       "<table border=\"1\" class=\"dataframe\">\n",
       "  <thead>\n",
       "    <tr>\n",
       "      <th></th>\n",
       "      <th colspan=\"2\" halign=\"left\">CIFAR-100</th>\n",
       "      <th colspan=\"2\" halign=\"left\">SVHN</th>\n",
       "    </tr>\n",
       "    <tr>\n",
       "      <th></th>\n",
       "      <th>conf</th>\n",
       "      <th>auroc</th>\n",
       "      <th>conf</th>\n",
       "      <th>auroc</th>\n",
       "    </tr>\n",
       "  </thead>\n",
       "  <tbody>\n",
       "    <tr>\n",
       "      <th>Laplace Diffusion</th>\n",
       "      <td>0.791±0.001</td>\n",
       "      <td>0.856±0.002</td>\n",
       "      <td>0.793±0.019</td>\n",
       "      <td>0.852±0.013</td>\n",
       "    </tr>\n",
       "    <tr>\n",
       "      <th>Laplace Approximation</th>\n",
       "      <td>0.706±0.037</td>\n",
       "      <td>0.730±0.039</td>\n",
       "      <td>0.757±0.053</td>\n",
       "      <td>0.667±0.068</td>\n",
       "    </tr>\n",
       "    <tr>\n",
       "      <th>Linearised Laplace</th>\n",
       "      <td>0.818±0.004</td>\n",
       "      <td>0.839±0.005</td>\n",
       "      <td>0.805±0.028</td>\n",
       "      <td>0.853±0.020</td>\n",
       "    </tr>\n",
       "    <tr>\n",
       "      <th>MAP</th>\n",
       "      <td>0.803±0.010</td>\n",
       "      <td>0.877±0.005</td>\n",
       "      <td>0.790±0.028</td>\n",
       "      <td>0.884±0.013</td>\n",
       "    </tr>\n",
       "  </tbody>\n",
       "</table>\n",
       "</div>"
      ],
      "text/plain": [
       "                         CIFAR-100                      SVHN             \n",
       "                              conf        auroc         conf        auroc\n",
       "Laplace Diffusion      0.791±0.001  0.856±0.002  0.793±0.019  0.852±0.013\n",
       "Laplace Approximation  0.706±0.037  0.730±0.039  0.757±0.053  0.667±0.068\n",
       "Linearised Laplace     0.818±0.004  0.839±0.005  0.805±0.028  0.853±0.020\n",
       "MAP                    0.803±0.010  0.877±0.005  0.790±0.028  0.884±0.013"
      ]
     },
     "execution_count": 27,
     "metadata": {},
     "output_type": "execute_result"
    }
   ],
   "source": [
    "df"
   ]
  },
  {
   "cell_type": "code",
   "execution_count": 28,
   "metadata": {},
   "outputs": [
    {
     "name": "stdout",
     "output_type": "stream",
     "text": [
      "\\begin{tabular}{lllll}\n",
      "\\toprule\n",
      " & \\multicolumn{2}{r}{CIFAR-100} & \\multicolumn{2}{r}{SVHN} \\\\\n",
      " & conf & auroc & conf & auroc \\\\\n",
      "\\midrule\n",
      "Laplace Diffusion & 0.791±0.001 & 0.856±0.002 & 0.793±0.019 & 0.852±0.013 \\\\\n",
      "Laplace Approximation & 0.706±0.037 & 0.730±0.039 & 0.757±0.053 & 0.667±0.068 \\\\\n",
      "Linearised Laplace & 0.818±0.004 & 0.839±0.005 & 0.805±0.028 & 0.853±0.020 \\\\\n",
      "MAP & 0.803±0.010 & 0.877±0.005 & 0.790±0.028 & 0.884±0.013 \\\\\n",
      "\\bottomrule\n",
      "\\end{tabular}\n",
      "\n"
     ]
    }
   ],
   "source": [
    "print(df.to_latex(index=True,\n",
    "                  formatters={\"name\": str.upper},\n",
    "                  float_format=\"{:.3f}\".format,\n",
    "))  "
   ]
  },
  {
   "cell_type": "markdown",
   "metadata": {},
   "source": [
    "| Laplace Diffusion | 0.791±0.001 | 0.856±0.002 | 0.793±0.019 | 0.852±0.013 |\n",
    "| Laplace Approximation | 0.706±0.037 | 0.730±0.039 | 0.757±0.053 | 0.667±0.068 |\n",
    "| Linearised Laplace | 0.818±0.004 | 0.839±0.005 | 0.805±0.028 | 0.853±0.020 |\n",
    "| MAP | 0.803±0.010 | 0.877±0.005 | 0.790±0.028 | 0.884±0.013 |\n"
   ]
  },
  {
   "cell_type": "markdown",
   "metadata": {},
   "source": []
  },
  {
   "cell_type": "code",
   "execution_count": null,
   "metadata": {},
   "outputs": [],
   "source": []
  }
 ],
 "metadata": {
  "kernelspec": {
   "display_name": "geom",
   "language": "python",
   "name": "python3"
  },
  "language_info": {
   "codemirror_mode": {
    "name": "ipython",
    "version": 3
   },
   "file_extension": ".py",
   "mimetype": "text/x-python",
   "name": "python",
   "nbconvert_exporter": "python",
   "pygments_lexer": "ipython3",
   "version": "3.9.18"
  }
 },
 "nbformat": 4,
 "nbformat_minor": 2
}
